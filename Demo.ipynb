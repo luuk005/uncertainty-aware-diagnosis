{
 "cells": [
  {
   "cell_type": "code",
   "execution_count": 1,
   "metadata": {},
   "outputs": [],
   "source": [
    "%load_ext autoreload\n",
    "%autoreload 2"
   ]
  },
  {
   "cell_type": "code",
   "execution_count": 5,
   "metadata": {},
   "outputs": [],
   "source": [
    "# relative imports\n",
    "from uncertainty_aware_diagnosis import ICD10data\n",
    "\n",
    "# absolute imports\n",
    "from torch.utils.data import DataLoader\n",
    "\n",
    "# paths\n",
    "train_csv = \"./data/train.csv\"\n",
    "val_csv = \"./data/val.csv\"\n",
    "test_csv = \"./data/test.csv\""
   ]
  },
  {
   "cell_type": "code",
   "execution_count": 6,
   "metadata": {},
   "outputs": [],
   "source": [
    "# variables\n",
    "batch_size = 32"
   ]
  },
  {
   "cell_type": "code",
   "execution_count": null,
   "metadata": {},
   "outputs": [],
   "source": [
    "ds_train = ICD10data(train_csv)\n",
    "ds_val = ICD10data(val_csv)\n",
    "ds_test = ICD10data(test_csv)\n",
    "\n",
    "train_loader = DataLoader(ds_train, batch_size=batch_size, shuffle=True)\n",
    "val_loader = DataLoader(ds_val, batch_size=batch_size, shuffle=True)\n",
    "test_loader = DataLoader(ds_test, batch_size=batch_size, shuffle=True)"
   ]
  },
  {
   "cell_type": "code",
   "execution_count": null,
   "metadata": {},
   "outputs": [],
   "source": []
  }
 ],
 "metadata": {
  "kernelspec": {
   "display_name": ".venv",
   "language": "python",
   "name": "python3"
  },
  "language_info": {
   "codemirror_mode": {
    "name": "ipython",
    "version": 3
   },
   "file_extension": ".py",
   "mimetype": "text/x-python",
   "name": "python",
   "nbconvert_exporter": "python",
   "pygments_lexer": "ipython3",
   "version": "3.12.3"
  }
 },
 "nbformat": 4,
 "nbformat_minor": 2
}
