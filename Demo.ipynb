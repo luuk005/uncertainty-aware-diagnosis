{
 "cells": [
  {
   "cell_type": "code",
   "execution_count": null,
   "metadata": {},
   "outputs": [],
   "source": [
    "%load_ext autoreload\n",
    "%autoreload 2"
   ]
  },
  {
   "cell_type": "code",
   "execution_count": null,
   "metadata": {},
   "outputs": [],
   "source": [
    "# relative imports\n",
    "from uncertainty_aware_diagnosis import (\n",
    "    ICD10data,\n",
    "    SimpleMLP,\n",
    "    sklearnMLP,\n",
    ")\n",
    "\n",
    "# absolute imports\n",
    "from torch.utils.data import DataLoader\n",
    "from torch import nn\n",
    "import torch\n",
    "import numpy as np\n",
    "from torchmetrics import F1Score, Recall, Accuracy\n",
    "\n",
    "# paths\n",
    "train_csv = \"./data/train.csv\"\n",
    "val_csv = \"./data/val.csv\"\n",
    "test_csv = \"./data/test.csv\""
   ]
  },
  {
   "cell_type": "code",
   "execution_count": null,
   "metadata": {},
   "outputs": [],
   "source": [
    "# variables\n",
    "batch_size = 32\n",
    "hidden_dim = 256\n",
    "shuffle = True\n",
    "\n",
    "num_epochs = 10\n",
    "early_stopping_patience = 5\n",
    "dropout = 0.2\n",
    "learning_rate = 1e-3\n",
    "scheduler_step_size = 5\n",
    "scheduler_gamma = 0.5"
   ]
  },
  {
   "cell_type": "code",
   "execution_count": null,
   "metadata": {},
   "outputs": [],
   "source": [
    "# load data\n",
    "ds_train = ICD10data(train_csv)\n",
    "ds_val = ICD10data(val_csv)\n",
    "ds_test = ICD10data(test_csv)\n",
    "\n",
    "train_loader = DataLoader(ds_train, batch_size=batch_size, shuffle=shuffle)\n",
    "val_loader = DataLoader(ds_val, batch_size=batch_size, shuffle=shuffle)\n",
    "test_loader = DataLoader(ds_test, batch_size=batch_size, shuffle=shuffle)\n",
    "\n",
    "input_dim = ds_train.X.shape[1]\n",
    "output_dim = ds_train.classes.shape[0]\n",
    "\n",
    "print(f\"(input_dim: {input_dim}, hidden_dim: {hidden_dim}, output_dim: {output_dim})\")"
   ]
  },
  {
   "cell_type": "code",
   "execution_count": null,
   "metadata": {},
   "outputs": [],
   "source": [
    "# define model\n",
    "model = SimpleMLP(\n",
    "    input_dim=input_dim, hidden_dim=hidden_dim, num_classes=output_dim, dropout=dropout\n",
    ")\n",
    "# loss function\n",
    "criterion = nn.CrossEntropyLoss()\n",
    "# optimizer\n",
    "optimizer = torch.optim.Adam(model.parameters(), lr=learning_rate)\n",
    "# scheduler = torch.optim.lr_scheduler.StepLR(\n",
    "#     optimizer,\n",
    "#     step_size=scheduler_step_size,\n",
    "#     gamma=scheduler_gamma\n",
    "# )\n",
    "# metrics\n",
    "f1_macro = F1Score(task=\"multiclass\", average=\"macro\", num_classes=output_dim)\n",
    "recall_macro = Recall(task=\"multiclass\", average=\"macro\", num_classes=output_dim)\n",
    "\n",
    "# counters\n",
    "best_f1 = -np.inf\n",
    "epochs_no_improve = 0\n",
    "\n",
    "for epoch in range(num_epochs):\n",
    "    # training loop\n",
    "    model.train()\n",
    "    running_loss = 0.0\n",
    "    for batch_idx, (X, y) in enumerate(train_loader):\n",
    "        optimizer.zero_grad()\n",
    "        logits = model(X)\n",
    "        loss = criterion(logits, y)\n",
    "        loss.backward()\n",
    "        optimizer.step()\n",
    "        running_loss += loss.item() * X.size(0)\n",
    "    avg_train_loss = running_loss / len(train_loader.dataset)\n",
    "\n",
    "    # validation loop\n",
    "    model.eval()\n",
    "    val_loss = 0.0\n",
    "    f1_macro.reset()\n",
    "    recall_macro.reset()\n",
    "    with torch.no_grad():\n",
    "        for batch_idx, (X, y) in enumerate(val_loader):\n",
    "            logits = model(X)\n",
    "            val_loss += criterion(logits, y).item() * X.size(0)\n",
    "    avg_val_loss = val_loss / len(val_loader.dataset)\n",
    "\n",
    "    # calculate metrics\n",
    "    y_pred = torch.argmax(logits, dim=1)\n",
    "    f1_macro.update(y_pred, y)\n",
    "    recall_macro.update(y_pred, y)\n",
    "\n",
    "    # print progress\n",
    "    print(\n",
    "        f\"Epoch {epoch + 1}/{num_epochs}, Train Loss: {avg_train_loss:.4f}, Val Loss: {avg_val_loss:.4f}, F1 Macro: {f1_macro.compute():.4f}, Recall Macro: {recall_macro.compute():.4f}\"\n",
    "    )\n",
    "\n",
    "    # Step the learning rate scheduler\n",
    "    # scheduler.step()  # (If using ReduceLROnPlateau: scheduler.step(val_macro_f1))\n",
    "\n",
    "    # check for improvement for early stopping\n",
    "    if f1_macro.compute() > best_f1:\n",
    "        best_f1 = f1_macro.compute()\n",
    "        best_model_state = model.state_dict()\n",
    "        epochs_no_improve = 0\n",
    "    else:\n",
    "        epochs_no_improve += 1\n",
    "        if epochs_no_improve >= early_stopping_patience:\n",
    "            print(f\"Early stopping triggered at epoch {epoch + 1}\")\n",
    "            break\n",
    "\n",
    "\n",
    "if \"best_model_state\" in locals():\n",
    "    # load best model\n",
    "    model.load_state_dict(best_model_state)\n",
    "    # save best model\n",
    "    # torch.save(best_model_state, 'models/best_model.pth')\n",
    "\n",
    "print(\n",
    "    \"=================================================================================\\n\"\n",
    ")\n",
    "print(f\"Best F1 Macro: {best_f1:.4f}, Recall Macro: {recall_macro.compute():.4f}\")"
   ]
  },
  {
   "cell_type": "code",
   "execution_count": null,
   "metadata": {},
   "outputs": [],
   "source": [
    "# test best model\n",
    "model.eval()\n",
    "test_loss = 0.0\n",
    "f1_macro.reset()\n",
    "recall_macro.reset()\n",
    "accuracy = Accuracy(task=\"multiclass\", average=\"macro\", num_classes=output_dim)\n",
    "\n",
    "# Prepare a list to store predictions\n",
    "predicted_probs = []\n",
    "\n",
    "with torch.no_grad():\n",
    "    for batch_idx, (X, y) in enumerate(test_loader):\n",
    "        logits = model(X)\n",
    "        loss = criterion(logits, y)\n",
    "        test_loss += loss.item() * X.size(0)\n",
    "        y_pred = torch.argmax(logits, dim=1)\n",
    "        predicted_probs.append(logits)\n",
    "        f1_macro.update(y_pred, y)\n",
    "        recall_macro.update(y_pred, y)\n",
    "        accuracy.update(y_pred, y)\n",
    "\n",
    "# compute final values\n",
    "test_acc = accuracy.compute()\n",
    "test_f1 = f1_macro.compute()\n",
    "test_recall = recall_macro.compute()\n",
    "test_probs = torch.cat(predicted_probs)\n",
    "\n",
    "print(f\"Test Accuracy:          {test_acc:.4f}\")\n",
    "print(f\"Test Macro-F1:          {test_f1:.4f}\")\n",
    "print(f\"Test Macro-Recall:      {test_recall:.4f}\")"
   ]
  },
  {
   "cell_type": "markdown",
   "metadata": {},
   "source": [
    "# Calibration"
   ]
  },
  {
   "cell_type": "code",
   "execution_count": null,
   "metadata": {},
   "outputs": [],
   "source": [
    "# Calibration imports\n",
    "from pycalib.visualisations import plot_reliability_diagram\n",
    "from sklearn.calibration import CalibratedClassifierCV\n",
    "from pycalib.models.calibrators import LogisticCalibration\n",
    "from pycalib.metrics import ECE, classwise_ECE, conf_ECE"
   ]
  },
  {
   "cell_type": "code",
   "execution_count": null,
   "metadata": {},
   "outputs": [],
   "source": [
    "X_train = ds_train.X.cpu().numpy()\n",
    "y_train = ds_train.y.cpu().numpy()\n",
    "X_val = ds_val.X.cpu().numpy()\n",
    "y_val = ds_val.y.cpu().numpy()\n",
    "X_test = ds_test.X.cpu().numpy()\n",
    "y_test = ds_test.y.cpu().numpy()"
   ]
  },
  {
   "cell_type": "code",
   "execution_count": null,
   "metadata": {},
   "outputs": [],
   "source": [
    "# variables\n",
    "num_epochs = 25\n",
    "early_stopping_patience = 10\n",
    "learn_rate = 1e-3\n",
    "dropout = 0.2\n",
    "hidden_dim = 256\n",
    "\n",
    "model = SimpleMLP(\n",
    "    input_dim=input_dim, hidden_dim=hidden_dim, num_classes=output_dim, dropout=dropout\n",
    ")\n",
    "model.fit(\n",
    "    train_loader,\n",
    "    val_loader,\n",
    "    num_epochs=num_epochs,\n",
    "    learning_rate=learning_rate,\n",
    "    early_stopping_patience=early_stopping_patience,\n",
    "    verbose=True,\n",
    ")\n",
    "\n",
    "y_pred = model.predict(ds_test.X)\n",
    "y_proba = model.predict_proba(ds_test.X)"
   ]
  },
  {
   "cell_type": "code",
   "execution_count": null,
   "metadata": {},
   "outputs": [],
   "source": [
    "_ = plot_reliability_diagram(\n",
    "    y_test,\n",
    "    [\n",
    "        y_proba,\n",
    "    ],\n",
    "    legend=[\n",
    "        \"MLP\",\n",
    "    ],\n",
    "    class_names=list(ds_test.classes),\n",
    ")"
   ]
  },
  {
   "cell_type": "code",
   "execution_count": null,
   "metadata": {},
   "outputs": [],
   "source": [
    "# 1) get your raw logits from the MLP\n",
    "props_val = model.predict_proba(ds_val.X)  # shape (n_val, n_classes)\n",
    "probs_test = model.predict_proba(ds_test.X)  # shape (n_test, n_classes)\n",
    "\n",
    "# 2) instantiate & fit the pycalib logistic (Platt) calibrator\n",
    "calibrator = LogisticCalibration(\n",
    "    C=0.002, solver=\"lbfgs\", multi_class=\"multinomial\", log_transform=True\n",
    ")\n",
    "calibrator.fit(props_val, y_val)\n",
    "\n",
    "# 3) use it to get calibrated probabilities on your test set\n",
    "probs_calibrated = calibrator.predict_proba(probs_test)  # shape (n_test, n_classes)\n",
    "\n",
    "_ = plot_reliability_diagram(\n",
    "    ds_test.y.numpy(),\n",
    "    [probs_test, probs_calibrated],\n",
    "    legend=[\"MLP\", \"+ Calibrator\"],\n",
    "    class_names=list(ds_test.classes),\n",
    ")\n",
    "\n",
    "for metric in ECE, conf_ECE, classwise_ECE:\n",
    "    print(metric.__name__)\n",
    "    print(\"Classifier = {:.3f}\".format(metric(ds_test.y.numpy(), probs_test, bins=15)))\n",
    "    print(\n",
    "        \"Calibrator = {:.3f}\".format(\n",
    "            metric(ds_test.y.numpy(), probs_calibrated, bins=15)\n",
    "        )\n",
    "    )\n",
    "    print(\"\")"
   ]
  },
  {
   "cell_type": "markdown",
   "metadata": {},
   "source": [
    "[explains ECE and nessesary binning](https://towardsdatascience.com/expected-calibration-error-ece-a-step-by-step-visual-explanation-with-python-code-c3e9aa12937d/)"
   ]
  },
  {
   "cell_type": "code",
   "execution_count": null,
   "metadata": {},
   "outputs": [],
   "source": [
    "# Convert calibrated probabilities to predicted classes\n",
    "y_pred_calibrated = torch.argmax(torch.tensor(probs_calibrated), dim=1)\n",
    "\n",
    "# Initialize metrics\n",
    "f1_macro = F1Score(task=\"multiclass\", average=\"macro\", num_classes=len(ds_test.classes))\n",
    "recall_macro = Recall(\n",
    "    task=\"multiclass\", average=\"macro\", num_classes=len(ds_test.classes)\n",
    ")\n",
    "\n",
    "# Update metrics with predictions and true labels\n",
    "f1_macro.update(y_pred_calibrated, ds_test.y)\n",
    "recall_macro.update(y_pred_calibrated, ds_test.y)\n",
    "\n",
    "# Compute final values\n",
    "final_f1 = f1_macro.compute()\n",
    "final_recall = recall_macro.compute()\n",
    "\n",
    "# Print results\n",
    "print(f\"F1 Macro: {final_f1:.4f}\")\n",
    "print(f\"Recall Macro: {final_recall:.4f}\")"
   ]
  },
  {
   "cell_type": "code",
   "execution_count": null,
   "metadata": {},
   "outputs": [],
   "source": [
    "print(probs_test[0])\n",
    "print(probs_calibrated[0])"
   ]
  },
  {
   "cell_type": "markdown",
   "metadata": {},
   "source": [
    "### How to get confidence interval from point estimation per class?"
   ]
  },
  {
   "cell_type": "code",
   "execution_count": null,
   "metadata": {},
   "outputs": [],
   "source": []
  },
  {
   "cell_type": "code",
   "execution_count": null,
   "metadata": {},
   "outputs": [],
   "source": []
  },
  {
   "cell_type": "code",
   "execution_count": null,
   "metadata": {},
   "outputs": [],
   "source": []
  },
  {
   "cell_type": "code",
   "execution_count": null,
   "metadata": {},
   "outputs": [],
   "source": [
    "cal = CalibratedClassifierCV(estimator=model, method=\"sigmoid\", cv=\"prefit\")\n",
    "cal.fit(ds_val.X.numpy(), ds_val.y.numpy())\n",
    "\n",
    "scores_cal = cal.predict_proba(ds_test.X)\n",
    "\n",
    "_ = plot_reliability_diagram(\n",
    "    ds_test.y.numpy(),\n",
    "    [test_probs.numpy(), scores_cal],\n",
    "    legend=[\"MLP\", \"+ Calibrator\"],\n",
    "    class_names=list(ds_test.classes),\n",
    ")"
   ]
  },
  {
   "cell_type": "code",
   "execution_count": null,
   "metadata": {},
   "outputs": [],
   "source": [
    "# 1) pull out your arrays from the Dataset\n",
    "#    (they’re already torch.Tensors of shape [n_samples, n_features])\n",
    "X_train = ds_train.X.cpu().numpy()\n",
    "y_train = ds_train.y.cpu().numpy()\n",
    "X_val = ds_val.X.cpu().numpy()\n",
    "y_val = ds_val.y.cpu().numpy()\n",
    "X_test = ds_test.X.cpu().numpy()\n",
    "y_test = ds_test.y.cpu().numpy()\n",
    "\n",
    "# 2) instantiate the sklearn‐wrapped MLP\n",
    "mlp = sklearnMLP(\n",
    "    input_dim=X_train.shape[1],  # number of columns in X_train\n",
    "    hidden_dim=128,  # pick whatever you like\n",
    "    num_classes=len(ds_train.classes),  # your LabelEncoder’s classes\n",
    "    batch_size=64,\n",
    "    num_epochs=20,\n",
    "    learning_rate=1e-3,\n",
    "    early_stopping_patience=5,\n",
    "    device=\"cpu\",  # or \"cuda\" if you like\n",
    "    verbose=True,\n",
    ")\n",
    "\n",
    "# 3) fit on your training set\n",
    "mlp.fit(X_train, y_train)"
   ]
  },
  {
   "cell_type": "code",
   "execution_count": null,
   "metadata": {},
   "outputs": [],
   "source": [
    "# 4) calibrate on the validation set\n",
    "cal = CalibratedClassifierCV(estimator=mlp, method=\"sigmoid\", cv=\"prefit\")\n",
    "cal.fit(X_val, y_val)\n",
    "\n",
    "# 5) now you can predict or get calibrated probabilities\n",
    "probs_test_uncal = mlp.predict_proba(X_test)  # raw MLP probs\n",
    "probs_test_cal = cal.predict_proba(X_test)  # after sigmoid‐calibration"
   ]
  },
  {
   "cell_type": "code",
   "execution_count": null,
   "metadata": {},
   "outputs": [],
   "source": [
    "from uncertainty_aware_diagnosis import SklearnWrapper"
   ]
  },
  {
   "cell_type": "code",
   "execution_count": null,
   "metadata": {},
   "outputs": [],
   "source": [
    "# pull out your arrays\n",
    "X_train, y_train = ds_train.X.numpy(), ds_train.y.numpy()\n",
    "X_val, y_val = ds_val.X.numpy(), ds_val.y.numpy()\n",
    "X_test, y_test = ds_test.X.numpy(), ds_test.y.numpy()\n",
    "\n",
    "# wrap it\n",
    "sk_mlp = SklearnWrapper(\n",
    "    input_dim=X_train.shape[1],\n",
    "    hidden_dim=128,\n",
    "    num_classes=len(ds_train.classes),\n",
    "    batch_size=64,\n",
    "    num_epochs=20,\n",
    "    learning_rate=1e-3,\n",
    "    device=\"cpu\",  # or \"cuda\"\n",
    "    verbose=True,\n",
    ")\n",
    "\n",
    "# 1) fit\n",
    "sk_mlp.fit(X_train, y_train)"
   ]
  },
  {
   "cell_type": "code",
   "execution_count": null,
   "metadata": {},
   "outputs": [],
   "source": [
    "# 2) calibrate\n",
    "cal = CalibratedClassifierCV(sk_mlp, method=\"sigmoid\", cv=\"prefit\")\n",
    "cal.fit(X_val, y_val)\n",
    "\n",
    "# 3) now you can do\n",
    "probs_uncal = sk_mlp.predict_proba(X_test)\n",
    "probs_cal = cal.predict_proba(X_test)"
   ]
  },
  {
   "cell_type": "code",
   "execution_count": null,
   "metadata": {},
   "outputs": [],
   "source": [
    "_ = plot_reliability_diagram(\n",
    "    ds_test.y.numpy(),\n",
    "    [probs_test_uncal, probs_test_cal],\n",
    "    legend=[\"MLP\", \"+ Calibrator\"],\n",
    "    class_names=list(ds_test.classes),\n",
    ")"
   ]
  },
  {
   "cell_type": "markdown",
   "metadata": {},
   "source": [
    "# Temp scaling\n",
    "\n",
    "PyTorch/other frameworks: If the MLP is in PyTorch, TS can be implemented by adding a learnable temperature tensor and optimizing cross-entropy on the validation set with the logits divided by T. For more complex calibrators, one can also train a small neural network to map logits to calibrated logits (see some “post-hoc calibration nets” papers), but that is beyond traditional post-hoc methods.\n",
    "\n",
    "Netcal has TemperatureScaling and also has BetaCalibration for binary calibration (which you could apply per class). It can compute ECE/MCE and plot reliability diagrams.\n",
    "\n",
    "```python\n",
    "from netcal.scaling import TemperatureScaling\n",
    "ts = TemperatureScaling()\n",
    "ts.fit(model_probs, true_labels)    # model_probs: N×K numpy array\n",
    "calibrated_probs = ts.predict(model_probs)\n",
    "```\n"
   ]
  },
  {
   "cell_type": "code",
   "execution_count": null,
   "metadata": {},
   "outputs": [],
   "source": []
  },
  {
   "cell_type": "markdown",
   "metadata": {},
   "source": [
    "## Visualization of Epestemic Uncertainty"
   ]
  },
  {
   "cell_type": "code",
   "execution_count": 26,
   "metadata": {},
   "outputs": [
    {
     "data": {
      "application/vnd.plotly.v1+json": {
       "config": {
        "plotlyServerURL": "https://plot.ly"
       },
       "data": [
        {
         "line": {
          "color": "black",
          "width": 2
         },
         "mode": "lines",
         "name": "True posterior",
         "type": "scatter",
         "x": {
          "bdata": "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",
          "dtype": "f8"
         },
         "y": {
          "bdata": "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",
          "dtype": "f8"
         }
        },
        {
         "line": {
          "color": "green",
          "width": 2
         },
         "mode": "lines",
         "name": "Model score",
         "type": "scatter",
         "x": {
          "bdata": "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",
          "dtype": "f8"
         },
         "y": {
          "bdata": "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",
          "dtype": "f8"
         }
        },
        {
         "marker": {
          "color": "blue",
          "opacity": 0.7,
          "size": 8
         },
         "mode": "markers",
         "name": "True posterior of the samples",
         "type": "scatter",
         "x": {
          "bdata": "4N90DJC+0j+YlSFufqj0P8A3l4QGu+M/gAerSDI80T9AphHiCVHdvyCkOcn8Auw/EOW3QW33179yHFdMG84CQNDMou18QQZAwDmJHBVh5r94+749bwH8PzDrE+74MMY/IIracg0h2j+MNwRDu20EQG7C+eEblwTAc2gc7FrRA8CKYcprjgcHwHBhfB937v8/WCiv9fqz+j86dDiTtcIBQEJ21x5D+QZA2GWc8R64/D/gvggud5XNv5iEJfhI7vo/txut06RSAsD47fflZd3qP0GYxox5HgHAzDuNdhdYBUAAySoKjsfAP/QyokyJYuC/S5bDAUia9r8I0NcwkVP6P4AHmwWZ1tC/mI99tlRH2j+THg5mHBkHwDSalxsFluY/SPFVnbqF5T+YlkYxinPmPyhkasHGTAVAED9maWp08T+QVkm5d/nqv9Dwr8QCLti/PP0w+fv48j+QXy4M8xsFwDhy1nN1AvA/xAgNpphh8D+twbNfo837vzPyfu/AzwHAhb60aAi48b/s6DJg4yrqv+gr2JGf9No/YAqOgbeT178y8sBBI3EHQGhQFcgSGgPAYxlhFKXy+79KOAci1EEAwGzj9pWUZe0/SQ8HBxuv97+Q1W1Skt/Jv7aThCT/iPi/ANL47ZReAMCYlPPTtbMCwDDjnHfpA+4/GnZUBQJeAcDy6pq4yiD9v1hvGaBrNOm/LLEpyLrQ/j/0TkPM0VYDwL69CsKqOABArhcrjCRjA8C450Thu94GQMB4E69sE8i/6JNVtHDiBkAU7NPyXSHkP/BmPUgk+PY/M4hZ3XUeBsCotT5wvNn0v7Dk108GOwLA8rE6+g6S879oN97jEk0CwJgtb9E+efG/gFz2MSV24L8S9rJswesEwJhCyN4xevI/WGGGeTCT2T+IcuSxyYX2vyBiAdjA2sE/GBp5tKh9A8BASf0j2CndP2KTqhExmwRAmUHjc9lq8b/ErBsKRxLwP8bwHcZ3rAHA+LwYFnXE9D+8v9JMjjf0vwrlOZvjaf6/AIlEpUic4D/HpgIh6wgHwOwMcLgHlP8/whAfT03GB8A=",
          "dtype": "f8"
         },
         "y": {
          "bdata": "WJRWOJCe5D8ORNQY3mDvP1ooOoOBQOk/jge1ysNB5D951AuVV9nRP9iJLcHQSOw/UB0GDXxL1D+jUTieW2DrP2QjuoZxoeU/SnykFkbNxj/scJGGJr7vP0xkNc2RwuI/zec0UzFa5j/vHNQ6FuDoP44A8WPplM0/yosxZT+KyD9o3LHLBa/XP88Qhb++k+4/anev9kns7z/QbnY6jb7sPymOzokRROQ/O2h7AoeZ7z+TghADcqvYP6KdPL4p5u8/FCm/V0O7vz/AXwwpw+jrP5B+bPZmLLQ/WqgTtRRM5z8nAapmaBfiP9J3ocFbUtA/gHWW3kmNeT/8PPgmm/TvP0YQDfp6rdc/tW0Wp/hi5j/ayQbb5/LXP1ZDC8DhYOo/kaw7rtD36T/oDqe4vFPqP22O6C4xYOc/gKNrVV4x7j/SGV4XiDfAP6LxmMAZMtQ/NlJR/SbU7j+vbi40Y5PQP4JFCjf+d+0/aCajzmmq7T9AWZQ/+HV8P+iOFK1Niro/aIbMvpT+qj/ygdYTQE7BP1drz+eZiuY/ey6blPB51D8b6VjxQVvjP1AzuXTSMcQ/gLdZngOefz9o1YzWiMOqPwDLjmNut+w/AKUmhXnHYD9Wf/dAXJPZPwBs/yhu2jY/SPtKE+RirD8msOpADevBPzJ6Y4vd5uw/7LjtAV1dtj/gABywl8KPPxam6TW3pMI/9EHCKV4A7z+iAiLU/5jFP2UDMyfmW+4/ismJBgrjxT8+YCyLHHfkPyqHzKM2BNo/2wRq0P1v5D/xdz52EWrpP9mSQwKd2u8/dH4WsWQ61D8AI+4tZjqSP7T5Dt/Yw74/ILrY/rOgnj+43a9wnoC/P2B6LRB4xqw/UsDrmEZB0D/O7pWfL9fPP7qAuSy5ou4/QbxlzZQ55j9AVCIb1zB7PxMjvEF+OeI/PDj8NKyDxj/Xq+oMiQrnP/iB1C3ik+g/uDLG7OwwrT/YDwuVgYDtP2DCccf4Nbk/or9yl35o7z/gCvr5kfmXP0A5TAiyops/JLF7A/Hv5z84IBrSSLTXP5w2jk4duO4/dIstlPOX2j8=",
          "dtype": "f8"
         }
        },
        {
         "marker": {
          "color": "orange",
          "opacity": 0.7,
          "size": 8
         },
         "mode": "markers",
         "name": "Label of the samples",
         "type": "scatter",
         "x": {
          "bdata": "4N90DJC+0j+YlSFufqj0P8A3l4QGu+M/gAerSDI80T9AphHiCVHdvyCkOcn8Auw/EOW3QW33179yHFdMG84CQNDMou18QQZAwDmJHBVh5r94+749bwH8PzDrE+74MMY/IIracg0h2j+MNwRDu20EQG7C+eEblwTAc2gc7FrRA8CKYcprjgcHwHBhfB937v8/WCiv9fqz+j86dDiTtcIBQEJ21x5D+QZA2GWc8R64/D/gvggud5XNv5iEJfhI7vo/txut06RSAsD47fflZd3qP0GYxox5HgHAzDuNdhdYBUAAySoKjsfAP/QyokyJYuC/S5bDAUia9r8I0NcwkVP6P4AHmwWZ1tC/mI99tlRH2j+THg5mHBkHwDSalxsFluY/SPFVnbqF5T+YlkYxinPmPyhkasHGTAVAED9maWp08T+QVkm5d/nqv9Dwr8QCLti/PP0w+fv48j+QXy4M8xsFwDhy1nN1AvA/xAgNpphh8D+twbNfo837vzPyfu/AzwHAhb60aAi48b/s6DJg4yrqv+gr2JGf9No/YAqOgbeT178y8sBBI3EHQGhQFcgSGgPAYxlhFKXy+79KOAci1EEAwGzj9pWUZe0/SQ8HBxuv97+Q1W1Skt/Jv7aThCT/iPi/ANL47ZReAMCYlPPTtbMCwDDjnHfpA+4/GnZUBQJeAcDy6pq4yiD9v1hvGaBrNOm/LLEpyLrQ/j/0TkPM0VYDwL69CsKqOABArhcrjCRjA8C450Thu94GQMB4E69sE8i/6JNVtHDiBkAU7NPyXSHkP/BmPUgk+PY/M4hZ3XUeBsCotT5wvNn0v7Dk108GOwLA8rE6+g6S879oN97jEk0CwJgtb9E+efG/gFz2MSV24L8S9rJswesEwJhCyN4xevI/WGGGeTCT2T+IcuSxyYX2vyBiAdjA2sE/GBp5tKh9A8BASf0j2CndP2KTqhExmwRAmUHjc9lq8b/ErBsKRxLwP8bwHcZ3rAHA+LwYFnXE9D+8v9JMjjf0vwrlOZvjaf6/AIlEpUic4D/HpgIh6wgHwOwMcLgHlP8/whAfT03GB8A=",
          "dtype": "f8"
         },
         "y": {
          "bdata": "AAAAAAAA8D8AAAAAAADwPwAAAAAAAPA/AAAAAAAA8D8AAAAAAAAAAAAAAAAAAPA/AAAAAAAAAAAAAAAAAADwPwAAAAAAAPA/AAAAAAAAAAAAAAAAAADwPwAAAAAAAPA/AAAAAAAA8D8AAAAAAADwPwAAAAAAAAAAAAAAAAAAAAAAAAAAAAAAAAAAAAAAAPA/AAAAAAAA8D8AAAAAAADwPwAAAAAAAPA/AAAAAAAA8D8AAAAAAAAAAAAAAAAAAPA/AAAAAAAAAAAAAAAAAADwPwAAAAAAAAAAAAAAAAAA8D8AAAAAAADwPwAAAAAAAAAAAAAAAAAAAAAAAAAAAADwPwAAAAAAAAAAAAAAAAAA8D8AAAAAAAAAAAAAAAAAAPA/AAAAAAAA8D8AAAAAAADwPwAAAAAAAPA/AAAAAAAA8D8AAAAAAAAAAAAAAAAAAAAAAAAAAAAA8D8AAAAAAAAAAAAAAAAAAPA/AAAAAAAA8D8AAAAAAAAAAAAAAAAAAAAAAAAAAAAAAAAAAAAAAAAAAAAAAAAAAPA/AAAAAAAAAAAAAAAAAADwPwAAAAAAAAAAAAAAAAAAAAAAAAAAAAAAAAAAAAAAAPA/AAAAAAAAAAAAAAAAAAAAAAAAAAAAAAAAAAAAAAAAAAAAAAAAAAAAAAAAAAAAAPA/AAAAAAAAAAAAAAAAAAAAAAAAAAAAAAAAAAAAAAAA8D8AAAAAAAAAAAAAAAAAAPA/AAAAAAAAAAAAAAAAAADwPwAAAAAAAAAAAAAAAAAA8D8AAAAAAADwPwAAAAAAAPA/AAAAAAAAAAAAAAAAAAAAAAAAAAAAAAAAAAAAAAAAAAAAAAAAAAAAAAAAAAAAAAAAAAAAAAAAAAAAAAAAAAAAAAAAAAAAAPA/AAAAAAAA8D8AAAAAAAAAAAAAAAAAAPA/AAAAAAAAAAAAAAAAAADwPwAAAAAAAPA/AAAAAAAAAAAAAAAAAADwPwAAAAAAAAAAAAAAAAAA8D8AAAAAAAAAAAAAAAAAAAAAAAAAAAAA8D8AAAAAAAAAAAAAAAAAAPA/AAAAAAAAAAA=",
          "dtype": "f8"
         }
        }
       ],
       "layout": {
        "height": 300,
        "legend": {
         "bgcolor": "rgba(255,255,255,0.5)",
         "x": 0.7,
         "y": 0.95
        },
        "margin": {
         "b": 50,
         "l": 50,
         "r": 30,
         "t": 30
        },
        "template": {
         "data": {
          "bar": [
           {
            "error_x": {
             "color": "#2a3f5f"
            },
            "error_y": {
             "color": "#2a3f5f"
            },
            "marker": {
             "line": {
              "color": "#E5ECF6",
              "width": 0.5
             },
             "pattern": {
              "fillmode": "overlay",
              "size": 10,
              "solidity": 0.2
             }
            },
            "type": "bar"
           }
          ],
          "barpolar": [
           {
            "marker": {
             "line": {
              "color": "#E5ECF6",
              "width": 0.5
             },
             "pattern": {
              "fillmode": "overlay",
              "size": 10,
              "solidity": 0.2
             }
            },
            "type": "barpolar"
           }
          ],
          "carpet": [
           {
            "aaxis": {
             "endlinecolor": "#2a3f5f",
             "gridcolor": "white",
             "linecolor": "white",
             "minorgridcolor": "white",
             "startlinecolor": "#2a3f5f"
            },
            "baxis": {
             "endlinecolor": "#2a3f5f",
             "gridcolor": "white",
             "linecolor": "white",
             "minorgridcolor": "white",
             "startlinecolor": "#2a3f5f"
            },
            "type": "carpet"
           }
          ],
          "choropleth": [
           {
            "colorbar": {
             "outlinewidth": 0,
             "ticks": ""
            },
            "type": "choropleth"
           }
          ],
          "contour": [
           {
            "colorbar": {
             "outlinewidth": 0,
             "ticks": ""
            },
            "colorscale": [
             [
              0,
              "#0d0887"
             ],
             [
              0.1111111111111111,
              "#46039f"
             ],
             [
              0.2222222222222222,
              "#7201a8"
             ],
             [
              0.3333333333333333,
              "#9c179e"
             ],
             [
              0.4444444444444444,
              "#bd3786"
             ],
             [
              0.5555555555555556,
              "#d8576b"
             ],
             [
              0.6666666666666666,
              "#ed7953"
             ],
             [
              0.7777777777777778,
              "#fb9f3a"
             ],
             [
              0.8888888888888888,
              "#fdca26"
             ],
             [
              1,
              "#f0f921"
             ]
            ],
            "type": "contour"
           }
          ],
          "contourcarpet": [
           {
            "colorbar": {
             "outlinewidth": 0,
             "ticks": ""
            },
            "type": "contourcarpet"
           }
          ],
          "heatmap": [
           {
            "colorbar": {
             "outlinewidth": 0,
             "ticks": ""
            },
            "colorscale": [
             [
              0,
              "#0d0887"
             ],
             [
              0.1111111111111111,
              "#46039f"
             ],
             [
              0.2222222222222222,
              "#7201a8"
             ],
             [
              0.3333333333333333,
              "#9c179e"
             ],
             [
              0.4444444444444444,
              "#bd3786"
             ],
             [
              0.5555555555555556,
              "#d8576b"
             ],
             [
              0.6666666666666666,
              "#ed7953"
             ],
             [
              0.7777777777777778,
              "#fb9f3a"
             ],
             [
              0.8888888888888888,
              "#fdca26"
             ],
             [
              1,
              "#f0f921"
             ]
            ],
            "type": "heatmap"
           }
          ],
          "histogram": [
           {
            "marker": {
             "pattern": {
              "fillmode": "overlay",
              "size": 10,
              "solidity": 0.2
             }
            },
            "type": "histogram"
           }
          ],
          "histogram2d": [
           {
            "colorbar": {
             "outlinewidth": 0,
             "ticks": ""
            },
            "colorscale": [
             [
              0,
              "#0d0887"
             ],
             [
              0.1111111111111111,
              "#46039f"
             ],
             [
              0.2222222222222222,
              "#7201a8"
             ],
             [
              0.3333333333333333,
              "#9c179e"
             ],
             [
              0.4444444444444444,
              "#bd3786"
             ],
             [
              0.5555555555555556,
              "#d8576b"
             ],
             [
              0.6666666666666666,
              "#ed7953"
             ],
             [
              0.7777777777777778,
              "#fb9f3a"
             ],
             [
              0.8888888888888888,
              "#fdca26"
             ],
             [
              1,
              "#f0f921"
             ]
            ],
            "type": "histogram2d"
           }
          ],
          "histogram2dcontour": [
           {
            "colorbar": {
             "outlinewidth": 0,
             "ticks": ""
            },
            "colorscale": [
             [
              0,
              "#0d0887"
             ],
             [
              0.1111111111111111,
              "#46039f"
             ],
             [
              0.2222222222222222,
              "#7201a8"
             ],
             [
              0.3333333333333333,
              "#9c179e"
             ],
             [
              0.4444444444444444,
              "#bd3786"
             ],
             [
              0.5555555555555556,
              "#d8576b"
             ],
             [
              0.6666666666666666,
              "#ed7953"
             ],
             [
              0.7777777777777778,
              "#fb9f3a"
             ],
             [
              0.8888888888888888,
              "#fdca26"
             ],
             [
              1,
              "#f0f921"
             ]
            ],
            "type": "histogram2dcontour"
           }
          ],
          "mesh3d": [
           {
            "colorbar": {
             "outlinewidth": 0,
             "ticks": ""
            },
            "type": "mesh3d"
           }
          ],
          "parcoords": [
           {
            "line": {
             "colorbar": {
              "outlinewidth": 0,
              "ticks": ""
             }
            },
            "type": "parcoords"
           }
          ],
          "pie": [
           {
            "automargin": true,
            "type": "pie"
           }
          ],
          "scatter": [
           {
            "fillpattern": {
             "fillmode": "overlay",
             "size": 10,
             "solidity": 0.2
            },
            "type": "scatter"
           }
          ],
          "scatter3d": [
           {
            "line": {
             "colorbar": {
              "outlinewidth": 0,
              "ticks": ""
             }
            },
            "marker": {
             "colorbar": {
              "outlinewidth": 0,
              "ticks": ""
             }
            },
            "type": "scatter3d"
           }
          ],
          "scattercarpet": [
           {
            "marker": {
             "colorbar": {
              "outlinewidth": 0,
              "ticks": ""
             }
            },
            "type": "scattercarpet"
           }
          ],
          "scattergeo": [
           {
            "marker": {
             "colorbar": {
              "outlinewidth": 0,
              "ticks": ""
             }
            },
            "type": "scattergeo"
           }
          ],
          "scattergl": [
           {
            "marker": {
             "colorbar": {
              "outlinewidth": 0,
              "ticks": ""
             }
            },
            "type": "scattergl"
           }
          ],
          "scattermap": [
           {
            "marker": {
             "colorbar": {
              "outlinewidth": 0,
              "ticks": ""
             }
            },
            "type": "scattermap"
           }
          ],
          "scattermapbox": [
           {
            "marker": {
             "colorbar": {
              "outlinewidth": 0,
              "ticks": ""
             }
            },
            "type": "scattermapbox"
           }
          ],
          "scatterpolar": [
           {
            "marker": {
             "colorbar": {
              "outlinewidth": 0,
              "ticks": ""
             }
            },
            "type": "scatterpolar"
           }
          ],
          "scatterpolargl": [
           {
            "marker": {
             "colorbar": {
              "outlinewidth": 0,
              "ticks": ""
             }
            },
            "type": "scatterpolargl"
           }
          ],
          "scatterternary": [
           {
            "marker": {
             "colorbar": {
              "outlinewidth": 0,
              "ticks": ""
             }
            },
            "type": "scatterternary"
           }
          ],
          "surface": [
           {
            "colorbar": {
             "outlinewidth": 0,
             "ticks": ""
            },
            "colorscale": [
             [
              0,
              "#0d0887"
             ],
             [
              0.1111111111111111,
              "#46039f"
             ],
             [
              0.2222222222222222,
              "#7201a8"
             ],
             [
              0.3333333333333333,
              "#9c179e"
             ],
             [
              0.4444444444444444,
              "#bd3786"
             ],
             [
              0.5555555555555556,
              "#d8576b"
             ],
             [
              0.6666666666666666,
              "#ed7953"
             ],
             [
              0.7777777777777778,
              "#fb9f3a"
             ],
             [
              0.8888888888888888,
              "#fdca26"
             ],
             [
              1,
              "#f0f921"
             ]
            ],
            "type": "surface"
           }
          ],
          "table": [
           {
            "cells": {
             "fill": {
              "color": "#EBF0F8"
             },
             "line": {
              "color": "white"
             }
            },
            "header": {
             "fill": {
              "color": "#C8D4E3"
             },
             "line": {
              "color": "white"
             }
            },
            "type": "table"
           }
          ]
         },
         "layout": {
          "annotationdefaults": {
           "arrowcolor": "#2a3f5f",
           "arrowhead": 0,
           "arrowwidth": 1
          },
          "autotypenumbers": "strict",
          "coloraxis": {
           "colorbar": {
            "outlinewidth": 0,
            "ticks": ""
           }
          },
          "colorscale": {
           "diverging": [
            [
             0,
             "#8e0152"
            ],
            [
             0.1,
             "#c51b7d"
            ],
            [
             0.2,
             "#de77ae"
            ],
            [
             0.3,
             "#f1b6da"
            ],
            [
             0.4,
             "#fde0ef"
            ],
            [
             0.5,
             "#f7f7f7"
            ],
            [
             0.6,
             "#e6f5d0"
            ],
            [
             0.7,
             "#b8e186"
            ],
            [
             0.8,
             "#7fbc41"
            ],
            [
             0.9,
             "#4d9221"
            ],
            [
             1,
             "#276419"
            ]
           ],
           "sequential": [
            [
             0,
             "#0d0887"
            ],
            [
             0.1111111111111111,
             "#46039f"
            ],
            [
             0.2222222222222222,
             "#7201a8"
            ],
            [
             0.3333333333333333,
             "#9c179e"
            ],
            [
             0.4444444444444444,
             "#bd3786"
            ],
            [
             0.5555555555555556,
             "#d8576b"
            ],
            [
             0.6666666666666666,
             "#ed7953"
            ],
            [
             0.7777777777777778,
             "#fb9f3a"
            ],
            [
             0.8888888888888888,
             "#fdca26"
            ],
            [
             1,
             "#f0f921"
            ]
           ],
           "sequentialminus": [
            [
             0,
             "#0d0887"
            ],
            [
             0.1111111111111111,
             "#46039f"
            ],
            [
             0.2222222222222222,
             "#7201a8"
            ],
            [
             0.3333333333333333,
             "#9c179e"
            ],
            [
             0.4444444444444444,
             "#bd3786"
            ],
            [
             0.5555555555555556,
             "#d8576b"
            ],
            [
             0.6666666666666666,
             "#ed7953"
            ],
            [
             0.7777777777777778,
             "#fb9f3a"
            ],
            [
             0.8888888888888888,
             "#fdca26"
            ],
            [
             1,
             "#f0f921"
            ]
           ]
          },
          "colorway": [
           "#636efa",
           "#EF553B",
           "#00cc96",
           "#ab63fa",
           "#FFA15A",
           "#19d3f3",
           "#FF6692",
           "#B6E880",
           "#FF97FF",
           "#FECB52"
          ],
          "font": {
           "color": "#2a3f5f"
          },
          "geo": {
           "bgcolor": "white",
           "lakecolor": "white",
           "landcolor": "#E5ECF6",
           "showlakes": true,
           "showland": true,
           "subunitcolor": "white"
          },
          "hoverlabel": {
           "align": "left"
          },
          "hovermode": "closest",
          "mapbox": {
           "style": "light"
          },
          "paper_bgcolor": "white",
          "plot_bgcolor": "#E5ECF6",
          "polar": {
           "angularaxis": {
            "gridcolor": "white",
            "linecolor": "white",
            "ticks": ""
           },
           "bgcolor": "#E5ECF6",
           "radialaxis": {
            "gridcolor": "white",
            "linecolor": "white",
            "ticks": ""
           }
          },
          "scene": {
           "xaxis": {
            "backgroundcolor": "#E5ECF6",
            "gridcolor": "white",
            "gridwidth": 2,
            "linecolor": "white",
            "showbackground": true,
            "ticks": "",
            "zerolinecolor": "white"
           },
           "yaxis": {
            "backgroundcolor": "#E5ECF6",
            "gridcolor": "white",
            "gridwidth": 2,
            "linecolor": "white",
            "showbackground": true,
            "ticks": "",
            "zerolinecolor": "white"
           },
           "zaxis": {
            "backgroundcolor": "#E5ECF6",
            "gridcolor": "white",
            "gridwidth": 2,
            "linecolor": "white",
            "showbackground": true,
            "ticks": "",
            "zerolinecolor": "white"
           }
          },
          "shapedefaults": {
           "line": {
            "color": "#2a3f5f"
           }
          },
          "ternary": {
           "aaxis": {
            "gridcolor": "white",
            "linecolor": "white",
            "ticks": ""
           },
           "baxis": {
            "gridcolor": "white",
            "linecolor": "white",
            "ticks": ""
           },
           "bgcolor": "#E5ECF6",
           "caxis": {
            "gridcolor": "white",
            "linecolor": "white",
            "ticks": ""
           }
          },
          "title": {
           "x": 0.05
          },
          "xaxis": {
           "automargin": true,
           "gridcolor": "white",
           "linecolor": "white",
           "ticks": "",
           "title": {
            "standoff": 15
           },
           "zerolinecolor": "white",
           "zerolinewidth": 2
          },
          "yaxis": {
           "automargin": true,
           "gridcolor": "white",
           "linecolor": "white",
           "ticks": "",
           "title": {
            "standoff": 15
           },
           "zerolinecolor": "white",
           "zerolinewidth": 2
          }
         }
        },
        "width": 700,
        "xaxis": {
         "title": {
          "text": "x"
         }
        },
        "yaxis": {
         "title": {
          "text": "True label/posterior"
         }
        }
       }
      }
     },
     "metadata": {},
     "output_type": "display_data"
    }
   ],
   "source": [
    "import numpy as np\n",
    "import plotly.graph_objects as go\n",
    "\n",
    "# 1) Generate a smooth x-axis\n",
    "x = np.linspace(-3, 8, 500)  # Adjusted to cover one full sine wave\n",
    "\n",
    "\n",
    "# 2) Define “true posterior” and “model score” curves\n",
    "#    (you can swap these for your actual functions)\n",
    "y_true  = (np.sin(x) + 1) / 2                    # black line\n",
    "y_model = 0.45 + 0.55 * np.exp(-((x - 2) / 4) ** 2)      # green line\n",
    "\n",
    "# 3) Generate some sample points\n",
    "size = 100\n",
    "rng = np.random.RandomState(0)\n",
    "x_samp = rng.uniform(x.min(), 3, size=size)  # Increased sample size\n",
    "y_samp_true  = (np.sin(x_samp) + 1) / 2          # “true posterior” at those x’s\n",
    "labels       = (y_samp_true + 0.05*rng.randn(size) > 0.5).astype(float)  # Adjusted to match new sample size\n",
    "\n",
    "# 4) Build the figure\n",
    "fig = go.Figure()\n",
    "\n",
    "# — True posterior curve\n",
    "fig.add_trace(go.Scatter(\n",
    "    x=x, y=y_true,\n",
    "    mode='lines',\n",
    "    name='True posterior',\n",
    "    line=dict(color='black', width=2)\n",
    "))\n",
    "\n",
    "# — Model score curve\n",
    "fig.add_trace(go.Scatter(\n",
    "    x=x, y=y_model,\n",
    "    mode='lines',\n",
    "    name='Model score',\n",
    "    line=dict(color='green', width=2)\n",
    "))\n",
    "\n",
    "# — Posterior of the samples (blue dots)\n",
    "fig.add_trace(go.Scatter(\n",
    "    x=x_samp, y=y_samp_true,\n",
    "    mode='markers',\n",
    "    name='True posterior of the samples',\n",
    "    marker=dict(color='blue', size=8, opacity=0.7)\n",
    "))\n",
    "\n",
    "# — Labels of the samples (orange dots at 0 or 1)\n",
    "fig.add_trace(go.Scatter(\n",
    "    x=x_samp, y=labels,\n",
    "    mode='markers',\n",
    "    name='Label of the samples',\n",
    "    marker=dict(color='orange', size=8, opacity=0.7)\n",
    "))\n",
    "\n",
    "# 5) Axes labels, legend position, and layout tweaks\n",
    "fig.update_layout(\n",
    "    xaxis_title='x',\n",
    "    yaxis_title='True label/posterior',\n",
    "    legend=dict(\n",
    "        x=0.7, y=0.95,\n",
    "        bgcolor='rgba(255,255,255,0.5)'\n",
    "    ),\n",
    "    margin=dict(l=50, r=30, t=30, b=50),\n",
    "    width=700, height=300\n",
    ")\n",
    "\n",
    "fig.show()\n"
   ]
  },
  {
   "cell_type": "code",
   "execution_count": null,
   "metadata": {},
   "outputs": [],
   "source": []
  }
 ],
 "metadata": {
  "kernelspec": {
   "display_name": ".venv",
   "language": "python",
   "name": "python3"
  },
  "language_info": {
   "codemirror_mode": {
    "name": "ipython",
    "version": 3
   },
   "file_extension": ".py",
   "mimetype": "text/x-python",
   "name": "python",
   "nbconvert_exporter": "python",
   "pygments_lexer": "ipython3",
   "version": "3.12.3"
  }
 },
 "nbformat": 4,
 "nbformat_minor": 2
}
