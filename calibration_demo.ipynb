{
 "cells": [
  {
   "cell_type": "markdown",
   "metadata": {},
   "source": [
    "# 🎯 Calibration and Evaluation Demo\n",
    "\n",
    "This notebook demonstrates how to use the following post-hoc calibration classes (implemented in pytorch):\n",
    "- `PlattCalibrator`\n",
    "- `TemperatureScaling` \n",
    "- `DirichletCalibration`\n",
    "- `TopLabelTemperature`\n",
    "\n",
    "As well as the `Evaluator` class: The evaluation is designed for **extreme multi-class (thousends of classes) and noisy healthcare data**, where **per-class reliability and performance** is important and **reliable uncertainty quantificaition** is essential for interpretability for automated decision-making.\n",
    "\n",
    "For demonstration purposes it uses synthetic data that simulates these data complexities. The data generation is implemented in `synthetic_admission_code.py` and demonstrated in `synthetic_admissions_preprocessing.ipynb`. And for its base-model it uses the `SimpleMLP` class from `mlp_classifier.py`."
   ]
  },
  {
   "cell_type": "markdown",
   "metadata": {},
   "source": [
    "## Configuration"
   ]
  },
  {
   "cell_type": "code",
   "execution_count": 1,
   "metadata": {},
   "outputs": [],
   "source": [
    "# import data configuration\n",
    "from data.config import data_config\n",
    "\n",
    "# relative imports\n",
    "from src.uncertainty_aware_diagnosis import(\n",
    "    ICD10data, \n",
    "    SimpleMLP, \n",
    ")\n",
    "\n",
    "# absolute imports\n",
    "import polars as pl  # type: ignore\n",
    "import pickle  # type: ignore\n",
    "from torch.utils.data import DataLoader  # type: ignore\n",
    "\n",
    "# paths\n",
    "train_csv = data_config['train_csv']\n",
    "val_csv = data_config['val_csv']\n",
    "test_csv = data_config['test_csv']\n",
    "ohe_pkl = data_config['ohe_pkl']\n",
    "target = data_config['target'] # ICD10 principle diagnosis code\n",
    "\n",
    "# features\n",
    "numerical = data_config['numerical_features']\n",
    "categorical = data_config['categorical_features']\n",
    "high_cardinality_features = data_config['high_cardinality_features']\n",
    "use_embedding = False\n",
    "\n",
    "# variables dataloader\n",
    "batch_size = 32\n",
    "shuffle = True\n",
    "use_subset = True  # use subset of data for faster training\n",
    "subset_size = 64000"
   ]
  },
  {
   "cell_type": "markdown",
   "metadata": {},
   "source": [
    "## Load data"
   ]
  },
  {
   "cell_type": "code",
   "execution_count": 2,
   "metadata": {},
   "outputs": [
    {
     "name": "stdout",
     "output_type": "stream",
     "text": [
      "Number of icd10 classes: 561\n",
      "(input_dim: 517, output_dim: 561)\n"
     ]
    }
   ],
   "source": [
    "# load data\n",
    "with open(ohe_pkl, \"rb\") as f:\n",
    "    ohe_cats = pickle.load(f)\n",
    "\n",
    "train = ICD10data(\n",
    "    csv_path=train_csv,\n",
    "    numerical=numerical,\n",
    "    categorical=categorical,\n",
    "    high_card=[],\n",
    "    target=target,\n",
    "    dropna=True,\n",
    "    use_embedding=False,\n",
    "    ohe_categories=ohe_cats,  # use one-hot encoded categorie of full dataset\n",
    ")\n",
    "calibration = ICD10data(\n",
    "    csv_path=val_csv,\n",
    "    numerical=numerical,\n",
    "    categorical=categorical,\n",
    "    high_card=[],\n",
    "    target=target,\n",
    "    dropna=True,\n",
    "    use_embedding=False,\n",
    "    ohe_categories=ohe_cats,  # use one-hot encoded categorie of full dataset\n",
    "    encoder=train.encoder,  # use encoder from training set\n",
    "    scaler=train.scaler,  # use scalor from train set\n",
    ")\n",
    "test = ICD10data(\n",
    "    csv_path=test_csv,\n",
    "    numerical=numerical,\n",
    "    categorical=categorical,\n",
    "    high_card=[],\n",
    "    target=target,\n",
    "    dropna=True,\n",
    "    use_embedding=False,\n",
    "    ohe_categories=ohe_cats,  # use one-hot encoded categorie of full dataset\n",
    "    encoder=train.encoder,  # use encoder from training set\n",
    "    scaler=train.scaler,  # use scalor from train set\n",
    ")\n",
    "\n",
    "input_dim = train.X.shape[1]\n",
    "output_dim = train.classes.shape[0]\n",
    "\n",
    "print(f\"Number of icd10 classes: {len(train.classes)}\")\n",
    "print(f\"(input_dim: {input_dim}, output_dim: {output_dim})\")"
   ]
  },
  {
   "cell_type": "code",
   "execution_count": 3,
   "metadata": {},
   "outputs": [],
   "source": [
    "# initialize data loaders\n",
    "if use_subset:\n",
    "    train.X = train.X[:subset_size]\n",
    "    calibration.X = calibration.X[:subset_size]\n",
    "    train.y = train.y[:subset_size]\n",
    "    calibration.y = calibration.y[:subset_size]\n",
    "\n",
    "train_loader = DataLoader(train, batch_size=batch_size, shuffle=shuffle)\n",
    "calibration_loader = DataLoader(calibration, batch_size=batch_size, shuffle=shuffle)"
   ]
  },
  {
   "cell_type": "markdown",
   "metadata": {},
   "source": [
    "## Start base-model training"
   ]
  },
  {
   "cell_type": "code",
   "execution_count": 4,
   "metadata": {},
   "outputs": [
    {
     "name": "stdout",
     "output_type": "stream",
     "text": [
      "\n",
      "=== Single Split: 70% train / 30% val ===\n",
      "Epoch 1/150, Train Loss: 8.6040, Val Loss: 6.3843, F1 Macro: 0.2313, Recall Macro: 0.2432\n",
      "Epoch 2/150, Train Loss: 6.1116, Val Loss: 5.9578, F1 Macro: 0.3175, Recall Macro: 0.3267\n",
      "Epoch 3/150, Train Loss: 5.8013, Val Loss: 5.8392, F1 Macro: 0.3732, Recall Macro: 0.3838\n",
      "Epoch 4/150, Train Loss: 5.6805, Val Loss: 5.7897, F1 Macro: 0.3968, Recall Macro: 0.4085\n",
      "Epoch 5/150, Train Loss: 5.6244, Val Loss: 5.7950, F1 Macro: 0.4112, Recall Macro: 0.4265\n",
      "Epoch 6/150, Train Loss: 5.5612, Val Loss: 5.8167, F1 Macro: 0.4117, Recall Macro: 0.4248\n",
      "Epoch 7/150, Train Loss: 5.5090, Val Loss: 5.8102, F1 Macro: 0.4265, Recall Macro: 0.4398\n",
      "Epoch 8/150, Train Loss: 5.4554, Val Loss: 5.8215, F1 Macro: 0.4324, Recall Macro: 0.4444\n",
      "Epoch 9/150, Train Loss: 5.4009, Val Loss: 5.8257, F1 Macro: 0.4303, Recall Macro: 0.4388\n",
      "Epoch 10/150, Train Loss: 5.3597, Val Loss: 5.8319, F1 Macro: 0.4362, Recall Macro: 0.4449\n",
      "Epoch 11/150, Train Loss: 5.3104, Val Loss: 5.8440, F1 Macro: 0.4310, Recall Macro: 0.4421\n",
      "Epoch 12/150, Train Loss: 5.2748, Val Loss: 5.8548, F1 Macro: 0.4250, Recall Macro: 0.4327\n",
      "Epoch 13/150, Train Loss: 5.2336, Val Loss: 5.9024, F1 Macro: 0.4231, Recall Macro: 0.4328\n",
      "Epoch 14/150, Train Loss: 5.2046, Val Loss: 5.9052, F1 Macro: 0.4213, Recall Macro: 0.4297\n",
      "Epoch 15/150, Train Loss: 5.1712, Val Loss: 5.9267, F1 Macro: 0.4236, Recall Macro: 0.4303\n",
      "Epoch 16/150, Train Loss: 5.1395, Val Loss: 5.9168, F1 Macro: 0.4298, Recall Macro: 0.4361\n",
      "Epoch 17/150, Train Loss: 5.1045, Val Loss: 5.9370, F1 Macro: 0.4322, Recall Macro: 0.4412\n",
      "Epoch 18/150, Train Loss: 5.0902, Val Loss: 5.9603, F1 Macro: 0.4235, Recall Macro: 0.4297\n",
      "Epoch 19/150, Train Loss: 5.0601, Val Loss: 5.9785, F1 Macro: 0.4236, Recall Macro: 0.4303\n",
      "Epoch 20/150, Train Loss: 5.0372, Val Loss: 6.0058, F1 Macro: 0.4196, Recall Macro: 0.4282\n",
      "Early stopping triggered at epoch 20\n",
      "=================================================================================\n",
      "\n",
      "Best F1 Macro: 0.4196, Recall Macro: 0.4282\n",
      "→ F1 Macro: 0.4196 | Recall Macro: 0.4282\n"
     ]
    }
   ],
   "source": [
    "# variables MLP\n",
    "num_epochs = 150\n",
    "early_stopping_patience = 10\n",
    "learning_rate = 1e-3\n",
    "dropout = 0.2\n",
    "hidden_dim = 256\n",
    "k_folds = 3\n",
    "\n",
    "# define model\n",
    "model = SimpleMLP(\n",
    "    input_dim=input_dim, hidden_dim=hidden_dim, num_classes=output_dim, dropout=dropout\n",
    ")\n",
    "model.fit(\n",
    "    train, # not dataloader but full dataset\n",
    "    k_folds=k_folds,\n",
    "    batch_size=batch_size,\n",
    "    num_epochs=num_epochs,\n",
    "    learning_rate=learning_rate,\n",
    "    early_stopping_patience=early_stopping_patience,\n",
    "    single_split=0.7,\n",
    "    verbose=True,\n",
    ")\n",
    "\n",
    "# predict y, probs, and define y_test\n",
    "y_pred = model.predict(test.X)\n",
    "y_proba = model.predict_proba(test.X)\n",
    "y_test = test.y.numpy()"
   ]
  },
  {
   "cell_type": "markdown",
   "metadata": {},
   "source": [
    "# Post-hoc calibration"
   ]
  },
  {
   "cell_type": "code",
   "execution_count": 6,
   "metadata": {},
   "outputs": [],
   "source": [
    "# relative imports: calibrators\n",
    "from src.calibrators import(\n",
    "    PlattCalibrator,\n",
    "    TemperatureScaling,\n",
    "    TopLabelTemperature,\n",
    "    DirichletCalibration\n",
    ")"
   ]
  },
  {
   "cell_type": "code",
   "execution_count": 7,
   "metadata": {},
   "outputs": [],
   "source": [
    "# extract logits on val & test\n",
    "logits_val = model.predict_logits(calibration.X)  # shape (n_val, n_classes)\n",
    "logits_test = model.predict_logits(test.X)  # shape (n_test, n_classes)"
   ]
  },
  {
   "cell_type": "code",
   "execution_count": 8,
   "metadata": {},
   "outputs": [],
   "source": [
    "# get raw logits from the MLP --> for Platt's scaling specifice; other calibrators use logits!\n",
    "props_val = model.predict_proba(calibration.X)  # shape (n_val, n_classes)\n",
    "probs_test = model.predict_proba(test.X)  # shape (n_test, n_classes)"
   ]
  },
  {
   "cell_type": "markdown",
   "metadata": {},
   "source": [
    "## Platt's scaling \n",
    "Platt’s scaling is a traditional and simple calibration method for binary classifiers, that can be extended to multi-class settings with a one-versus-the-rest approach. It fits a logistic regression model to the model’s uncalibrated scores to convert them into calibrated probabilities (orignialy design by john Platt for SVMs around the 2000s). It has 2 parameters per-class: a weight and a bias. It is found to be limited in extreme multi-class settings, and degrading both calibration and model performance (in our noisy, extreme multi-class healthcare data from federated sources)."
   ]
  },
  {
   "cell_type": "code",
   "execution_count": 9,
   "metadata": {},
   "outputs": [
    {
     "name": "stderr",
     "output_type": "stream",
     "text": [
      "c:\\Users\\Lwsja\\GitHub\\uncertainty-aware-diagnosis\\.venv\\Lib\\site-packages\\sklearn\\linear_model\\_logistic.py:1247: FutureWarning: 'multi_class' was deprecated in version 1.5 and will be removed in 1.7. From then on, it will always use 'multinomial'. Leave it to its default value to avoid this warning.\n",
      "  warnings.warn(\n",
      "c:\\Users\\Lwsja\\GitHub\\uncertainty-aware-diagnosis\\.venv\\Lib\\site-packages\\sklearn\\linear_model\\_logistic.py:465: ConvergenceWarning: lbfgs failed to converge (status=1):\n",
      "STOP: TOTAL NO. OF ITERATIONS REACHED LIMIT.\n",
      "\n",
      "Increase the number of iterations (max_iter) or scale the data as shown in:\n",
      "    https://scikit-learn.org/stable/modules/preprocessing.html\n",
      "Please also refer to the documentation for alternative solver options:\n",
      "    https://scikit-learn.org/stable/modules/linear_model.html#logistic-regression\n",
      "  n_iter_i = _check_optimize_result(\n"
     ]
    }
   ],
   "source": [
    "# variables calibrator\n",
    "C = 0.03\n",
    "solver = \"lbfgs\"\n",
    "log_transform = True\n",
    "\n",
    "# instantiate & fit the Platt calibrator\n",
    "platt = PlattCalibrator(C=C, solver=solver, log_transform=log_transform)\n",
    "platt.fit(props_val, calibration.y.numpy())\n",
    "\n",
    "# use it to get calibrated probabilities on your test set\n",
    "probs_platt_calibrated = platt.predict_proba(probs_test)"
   ]
  },
  {
   "cell_type": "markdown",
   "metadata": {},
   "source": [
    "## Temperature scaling: a reliable baseline\n",
    "\n",
    "Temperature scaling works by multiplying the neural network’s logits by a single scalar parameter. The scaling parameter is determined by minimizing the\n",
    "negative log-likelihood on a dedicated calibration set, which significantly reduces miscalibration without altering the model’s predictive performance. Temperature\n",
    "scaling should provide robust generalization due to its minimal complexity, making it particularly attractive for real-world deployments in extreme multiclass\n",
    "settings where computational simplicity and stability are essential (Guo et al., 2017; Kull et al., 2019; Rajaraman et al., 2022). Given it is using a single parameter it has a low risk on overfitting, with the limitation of only adjusting confidence, not the class ranking nor class-specific biases. It is found that temerature scaling can be a reliable baseline as it does not degrade model performance (as it only adjusts confidence, not ranking), while it can significantly improve calibration."
   ]
  },
  {
   "cell_type": "code",
   "execution_count": 10,
   "metadata": {},
   "outputs": [],
   "source": [
    "# variables calibrator\n",
    "init_temp = 1.5\n",
    "lr = 0.1\n",
    "max_iter = 50\n",
    "\n",
    "# fit temperature\n",
    "temp = TemperatureScaling(\n",
    "  init_temp=init_temp,\n",
    "  lr=lr,\n",
    "  max_iter=max_iter,\n",
    "  device=next(model.parameters()).device\n",
    ")\n",
    "temp.fit(logits_val, calibration.y.numpy())\n",
    "\n",
    "# get calibrated probabilities\n",
    "probs_temp_calibrated = temp.predict_proba(logits_test)"
   ]
  },
  {
   "cell_type": "markdown",
   "metadata": {},
   "source": [
    "## Dirichlet calibration: a more flexible multi-class approach\n",
    "\n",
    "Dirichlet calibration is intentionally designed for multi-class and transforms uncalibrated probabilities into more realistic, better-calibrated probabilities by learning a post-processing function using the Dirichlet distribution. It has three parameters: a weight matrix, a bias vector and a temperature scalar, which together transform the uncalibrated logits via a softmax-like function to produce calibrated probabilities. Therefore it can capture more complex miscalibration than temperature scaling, as it allows class-specific and non-linear adjustment. This comes at the cost of higher risk of overfitting and more required calibration data. It is found that Dirichlet calibration is able to both improve calibration and performance, although temperature scaling could obtain higher calibration.\n"
   ]
  },
  {
   "cell_type": "code",
   "execution_count": 11,
   "metadata": {},
   "outputs": [],
   "source": [
    "# variables calibrator\n",
    "num_classes = logits_val.shape[1]\n",
    "device = \"cpu\"\n",
    "\n",
    "# instantiate & fit the Dirichlet calibrator\n",
    "dirichlet = DirichletCalibration(num_classes=num_classes, device=device)\n",
    "dirichlet.fit(logits_val, calibration.y.numpy())\n",
    "\n",
    "# use it to get calibrated probabilities on your test set\n",
    "probs_dir = dirichlet.predict_proba(logits_test)"
   ]
  },
  {
   "cell_type": "markdown",
   "metadata": {},
   "source": [
    "## Top-label calibration\n",
    "\n",
    "Top-label calibration is a post-hoc calibration method that adjusts the predicted probability only for the top-predicted class (or winning class). Instead of calibrating the full probability distribution across all classes, it focuses only on the confidence of the top guess, therefore it simplifies the calibration problem and makes it fast. This can be desired when you only care about the confidence of the predicted label, not the full distribution, and you have limited calibration data and thus want a simplify the deficult extreme multi-class setting. Limitations (i) Ignores the other class probabilities, so it doesn't correct the full distribution, (ii) it cannot be used if you need well-calibrated probabilities for all classes (e.g., ranking, expected value calculations, multi-label tasks), and (iii) it can give misleading results if the wrong label is top-predicted, since it still calibrates that label as if it were the correct one. All in all, not ideal for automated decision-making in healthcare. Anyhow, an implementation is made and it is findings confirm this reasoning. "
   ]
  },
  {
   "cell_type": "code",
   "execution_count": 12,
   "metadata": {},
   "outputs": [],
   "source": [
    "# fit temperature\n",
    "top_label_temp = TopLabelTemperature(mode=\"top_label\", device=next(model.parameters()).device)\n",
    "top_label_temp.fit(logits_val, calibration.y.numpy())\n",
    "\n",
    "# get calibrated probabilities\n",
    "tl_probs_temp = top_label_temp.predict_proba(logits_test)"
   ]
  },
  {
   "cell_type": "markdown",
   "metadata": {},
   "source": [
    "# Evaluating calibration"
   ]
  },
  {
   "cell_type": "code",
   "execution_count": 13,
   "metadata": {},
   "outputs": [],
   "source": [
    "# relative imports: calibration evaluator\n",
    "from src.calibrators import Evaluator"
   ]
  },
  {
   "cell_type": "code",
   "execution_count": 19,
   "metadata": {},
   "outputs": [
    {
     "name": "stdout",
     "output_type": "stream",
     "text": [
      "\n",
      "=== Classification Metrics ===\n",
      "Model             F1 Macro     Recall      Brier\n",
      "---------------------------------------------\n",
      "Baseline        0.0002    0.0006    0.0006\n",
      "Platt           0.0366    0.0478    0.2382\n",
      "Temp            0.0002    0.0006    0.0006\n",
      "Dirichlet       0.1793    0.1795    0.2757\n",
      "\n",
      "=== Calibration (ECE) Metrics ===\n",
      "Model             conf_ECE    classwise_ECE\n",
      "---------------------------------------------\n",
      "Baseline        0.0028    0.0021\n",
      "Platt           0.1709    0.0006\n",
      "Temp            0.0014    0.0021\n",
      "Dirichlet       0.2448    0.0006\n",
      "\n",
      "=== Reliability Diagram ===\n"
     ]
    },
    {
     "data": {
      "image/png": "[encoded data removed]",
      "text/plain": [
       "<Figure size 400x400 with 2 Axes>"
      ]
     },
     "metadata": {},
     "output_type": "display_data"
    }
   ],
   "source": [
    "# Instantiate the evaluator\n",
    "num_classes = len(test.classes)\n",
    "evaluator = Evaluator(num_classes=num_classes)\n",
    "\n",
    "# Prepare the dictionary of model outputs\n",
    "bins = 5 # used for ECE\n",
    "prob_dict = {\n",
    "    \"Baseline\": probs_test,\n",
    "    \"Platt\": probs_platt_calibrated,\n",
    "    \"Temp\": probs_temp_calibrated,\n",
    "    \"Dirichlet\": probs_dir,\n",
    "#    \"TopLabelTemp\": top_label_temp,\n",
    "}\n",
    "\n",
    "# Evaluate everything: prints F1, Recall, Brier, ECE, and shows plot\n",
    "results, ece_scores = evaluator.evaluate_all(\n",
    "    y_true=test.y,\n",
    "    prob_dict=prob_dict,\n",
    "    bins=bins \n",
    ")"
   ]
  }
 ],
 "metadata": {
  "kernelspec": {
   "display_name": ".venv",
   "language": "python",
   "name": "python3"
  },
  "language_info": {
   "codemirror_mode": {
    "name": "ipython",
    "version": 3
   },
   "file_extension": ".py",
   "mimetype": "text/x-python",
   "name": "python",
   "nbconvert_exporter": "python",
   "pygments_lexer": "ipython3",
   "version": "3.12.3"
  }
 },
 "nbformat": 4,
 "nbformat_minor": 2
}
