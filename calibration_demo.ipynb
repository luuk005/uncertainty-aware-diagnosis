{
 "cells": [
  {
   "cell_type": "markdown",
   "metadata": {},
   "source": [
    "# 🎯 Calibration and Evaluation Demo\n",
    "\n",
    "This notebook demonstrates how to use the following post-hoc calibration classes (implemented in pytorch):\n",
    "- `PlattCalibrator`\n",
    "- `TemperatureScaling` \n",
    "- `DirichletCalibration`\n",
    "- `TopLabelTemperature`\n",
    "\n",
    "As well as the `Evaluator` class: The evaluation is designed for **extreme multi-class (thousends of classes) and noisy healthcare data**, where **per-class reliability and performance** is important and **reliable uncertainty quantificaition** is essential for interpretability for automated decision-making.\n",
    "\n",
    "For demonstration purposes it uses synthetic data that simulates these data complexities. The data generation is implemented in `synthetic_admission_code.py` and demonstrated in `synthetic_admissions_preprocessing.ipynb`. And for its base-model it uses the `SimpleMLP` class from `mlp_classifier.py`."
   ]
  },
  {
   "cell_type": "markdown",
   "metadata": {},
   "source": [
    "## Configuration"
   ]
  },
  {
   "cell_type": "code",
   "execution_count": 1,
   "metadata": {},
   "outputs": [],
   "source": [
    "# import data configuration\n",
    "from data.config import data_config\n",
    "\n",
    "# relative imports\n",
    "from src.uncertainty_aware_diagnosis import(\n",
    "    ICD10data, \n",
    "    SimpleMLP, \n",
    ")\n",
    "\n",
    "# absolute imports\n",
    "import polars as pl  # type: ignore\n",
    "import pickle  # type: ignore\n",
    "from torch.utils.data import DataLoader  # type: ignore\n",
    "import torch  # type: ignore\n",
    "from torchmetrics import F1Score, Recall  # type: ignore\n",
    "\n",
    "# paths\n",
    "train_csv = data_config['train_csv']\n",
    "val_csv = data_config['val_csv']\n",
    "test_csv = data_config['test_csv']\n",
    "ohe_pkl = data_config['ohe_pkl']\n",
    "target = data_config['target'] # ICD10 principle diagnosis code\n",
    "\n",
    "# features\n",
    "numerical = data_config['numerical_features']\n",
    "categorical = data_config['categorical_features']\n",
    "high_cardinality_features = data_config['high_cardinality_features']\n",
    "use_embedding = False\n",
    "\n",
    "# variables dataloader\n",
    "batch_size = 32\n",
    "shuffle = True\n",
    "use_subset = True  # use subset of data for faster training\n",
    "subset_size = 64000"
   ]
  },
  {
   "cell_type": "markdown",
   "metadata": {},
   "source": [
    "## Load data"
   ]
  },
  {
   "cell_type": "code",
   "execution_count": 2,
   "metadata": {},
   "outputs": [
    {
     "name": "stdout",
     "output_type": "stream",
     "text": [
      "Number of icd10 classes: 561\n",
      "(input_dim: 517, output_dim: 561)\n"
     ]
    }
   ],
   "source": [
    "# load data\n",
    "with open(ohe_pkl, \"rb\") as f:\n",
    "    ohe_cats = pickle.load(f)\n",
    "\n",
    "train = ICD10data(\n",
    "    csv_path=train_csv,\n",
    "    numerical=numerical,\n",
    "    categorical=categorical,\n",
    "    high_card=[],\n",
    "    target=target,\n",
    "    dropna=True,\n",
    "    use_embedding=False,\n",
    "    ohe_categories=ohe_cats,  # use one-hot encoded categorie of full dataset\n",
    ")\n",
    "calibration = ICD10data(\n",
    "    csv_path=val_csv,\n",
    "    numerical=numerical,\n",
    "    categorical=categorical,\n",
    "    high_card=[],\n",
    "    target=target,\n",
    "    dropna=True,\n",
    "    use_embedding=False,\n",
    "    ohe_categories=ohe_cats,  # use one-hot encoded categorie of full dataset\n",
    "    encoder=train.encoder,  # use encoder from training set\n",
    "    scaler=train.scaler,  # use scalor from train set\n",
    ")\n",
    "test = ICD10data(\n",
    "    csv_path=test_csv,\n",
    "    numerical=numerical,\n",
    "    categorical=categorical,\n",
    "    high_card=[],\n",
    "    target=target,\n",
    "    dropna=True,\n",
    "    use_embedding=False,\n",
    "    ohe_categories=ohe_cats,  # use one-hot encoded categorie of full dataset\n",
    "    encoder=train.encoder,  # use encoder from training set\n",
    "    scaler=train.scaler,  # use scalor from train set\n",
    ")\n",
    "\n",
    "input_dim = train.X.shape[1]\n",
    "output_dim = train.classes.shape[0]\n",
    "\n",
    "print(f\"Number of icd10 classes: {len(train.classes)}\")\n",
    "print(f\"(input_dim: {input_dim}, output_dim: {output_dim})\")"
   ]
  },
  {
   "cell_type": "code",
   "execution_count": 3,
   "metadata": {},
   "outputs": [],
   "source": [
    "# initialize data loaders\n",
    "if use_subset:\n",
    "    train.X = train.X[:subset_size]\n",
    "    calibration.X = calibration.X[:subset_size]\n",
    "    train.y = train.y[:subset_size]\n",
    "    calibration.y = calibration.y[:subset_size]\n",
    "\n",
    "train_loader = DataLoader(train, batch_size=batch_size, shuffle=shuffle)\n",
    "calibration_loader = DataLoader(calibration, batch_size=batch_size, shuffle=shuffle)"
   ]
  },
  {
   "cell_type": "markdown",
   "metadata": {},
   "source": [
    "## Start base-model training\n",
    "- Use Symmetric Cross Entropy loss (see [paper](https://arxiv.org/pdf/1908.06112)), it penalizes model overconfidence and is therefore more effective in learning from noisy training data.\n",
    "- The `SymmetricCrossEntropyLoss` class is a pytorch implementation defined in `uncertainty-aware-diagnosis.noise_robustness_improvements.py`"
   ]
  },
  {
   "cell_type": "code",
   "execution_count": 4,
   "metadata": {},
   "outputs": [
    {
     "name": "stdout",
     "output_type": "stream",
     "text": [
      "\n",
      "=== Fold 1/3 ===\n",
      "Epoch 1/150, Train Loss: 8.6972, Val Loss: 6.4397, F1 Macro: 0.2199, Recall Macro: 0.2303\n",
      "Epoch 2/150, Train Loss: 6.1470, Val Loss: 5.9536, F1 Macro: 0.3186, Recall Macro: 0.3230\n",
      "Epoch 3/150, Train Loss: 5.8342, Val Loss: 5.8357, F1 Macro: 0.3673, Recall Macro: 0.3710\n",
      "Epoch 4/150, Train Loss: 5.7123, Val Loss: 5.7956, F1 Macro: 0.4098, Recall Macro: 0.4175\n",
      "Epoch 5/150, Train Loss: 5.6298, Val Loss: 5.7864, F1 Macro: 0.4253, Recall Macro: 0.4355\n",
      "Epoch 6/150, Train Loss: 5.5567, Val Loss: 5.7925, F1 Macro: 0.4201, Recall Macro: 0.4242\n",
      "Epoch 7/150, Train Loss: 5.5009, Val Loss: 5.8213, F1 Macro: 0.4257, Recall Macro: 0.4329\n",
      "Epoch 8/150, Train Loss: 5.4372, Val Loss: 5.8493, F1 Macro: 0.4331, Recall Macro: 0.4360\n",
      "Epoch 9/150, Train Loss: 5.3958, Val Loss: 5.8331, F1 Macro: 0.4462, Recall Macro: 0.4518\n",
      "Epoch 10/150, Train Loss: 5.3427, Val Loss: 5.8770, F1 Macro: 0.4420, Recall Macro: 0.4475\n",
      "Epoch 11/150, Train Loss: 5.3106, Val Loss: 5.8733, F1 Macro: 0.4381, Recall Macro: 0.4425\n",
      "Epoch 12/150, Train Loss: 5.2591, Val Loss: 5.8941, F1 Macro: 0.4416, Recall Macro: 0.4467\n",
      "Epoch 13/150, Train Loss: 5.2267, Val Loss: 5.9103, F1 Macro: 0.4467, Recall Macro: 0.4520\n",
      "Epoch 14/150, Train Loss: 5.1887, Val Loss: 5.9404, F1 Macro: 0.4425, Recall Macro: 0.4484\n",
      "Epoch 15/150, Train Loss: 5.1581, Val Loss: 5.9365, F1 Macro: 0.4368, Recall Macro: 0.4374\n",
      "Epoch 16/150, Train Loss: 5.1255, Val Loss: 5.9555, F1 Macro: 0.4393, Recall Macro: 0.4413\n",
      "Epoch 17/150, Train Loss: 5.0944, Val Loss: 5.9665, F1 Macro: 0.4377, Recall Macro: 0.4348\n",
      "Epoch 18/150, Train Loss: 5.0613, Val Loss: 5.9672, F1 Macro: 0.4408, Recall Macro: 0.4437\n",
      "Epoch 19/150, Train Loss: 5.0438, Val Loss: 6.0001, F1 Macro: 0.4361, Recall Macro: 0.4357\n",
      "Epoch 20/150, Train Loss: 5.0226, Val Loss: 6.0017, F1 Macro: 0.4427, Recall Macro: 0.4410\n",
      "Epoch 21/150, Train Loss: 4.9901, Val Loss: 6.0228, F1 Macro: 0.4297, Recall Macro: 0.4294\n",
      "Epoch 22/150, Train Loss: 4.9782, Val Loss: 6.0409, F1 Macro: 0.4315, Recall Macro: 0.4328\n",
      "Epoch 23/150, Train Loss: 4.9488, Val Loss: 6.0481, F1 Macro: 0.4316, Recall Macro: 0.4316\n",
      "Early stopping triggered at epoch 23\n",
      "=================================================================================\n",
      "\n",
      "Best F1 Macro: 0.4316, Recall Macro: 0.4316\n",
      "Fold 1 → F1 Macro: 0.4316 | Recall Macro: 0.4316\n",
      "\n",
      "=== Fold 2/3 ===\n",
      "Epoch 1/150, Train Loss: 8.6766, Val Loss: 6.4025, F1 Macro: 0.2328, Recall Macro: 0.2429\n",
      "Epoch 2/150, Train Loss: 6.1135, Val Loss: 5.9704, F1 Macro: 0.3133, Recall Macro: 0.3185\n",
      "Epoch 3/150, Train Loss: 5.8074, Val Loss: 5.8411, F1 Macro: 0.3671, Recall Macro: 0.3733\n",
      "Epoch 4/150, Train Loss: 5.6879, Val Loss: 5.8202, F1 Macro: 0.3910, Recall Macro: 0.3991\n",
      "Epoch 5/150, Train Loss: 5.6139, Val Loss: 5.7897, F1 Macro: 0.4129, Recall Macro: 0.4184\n",
      "Epoch 6/150, Train Loss: 5.5604, Val Loss: 5.8135, F1 Macro: 0.4306, Recall Macro: 0.4388\n",
      "Epoch 7/150, Train Loss: 5.5078, Val Loss: 5.8070, F1 Macro: 0.4301, Recall Macro: 0.4371\n",
      "Epoch 8/150, Train Loss: 5.4358, Val Loss: 5.8302, F1 Macro: 0.4385, Recall Macro: 0.4471\n",
      "Epoch 9/150, Train Loss: 5.3932, Val Loss: 5.8417, F1 Macro: 0.4446, Recall Macro: 0.4528\n",
      "Epoch 10/150, Train Loss: 5.3457, Val Loss: 5.8625, F1 Macro: 0.4414, Recall Macro: 0.4460\n",
      "Epoch 11/150, Train Loss: 5.3012, Val Loss: 5.8865, F1 Macro: 0.4383, Recall Macro: 0.4407\n",
      "Epoch 12/150, Train Loss: 5.2578, Val Loss: 5.9064, F1 Macro: 0.4435, Recall Macro: 0.4451\n",
      "Epoch 13/150, Train Loss: 5.2130, Val Loss: 5.9427, F1 Macro: 0.4386, Recall Macro: 0.4418\n",
      "Epoch 14/150, Train Loss: 5.1792, Val Loss: 5.9396, F1 Macro: 0.4452, Recall Macro: 0.4453\n",
      "Epoch 15/150, Train Loss: 5.1523, Val Loss: 5.9615, F1 Macro: 0.4374, Recall Macro: 0.4386\n",
      "Epoch 16/150, Train Loss: 5.1235, Val Loss: 5.9884, F1 Macro: 0.4395, Recall Macro: 0.4421\n",
      "Epoch 17/150, Train Loss: 5.0878, Val Loss: 5.9988, F1 Macro: 0.4399, Recall Macro: 0.4412\n",
      "Epoch 18/150, Train Loss: 5.0610, Val Loss: 6.0076, F1 Macro: 0.4403, Recall Macro: 0.4410\n",
      "Epoch 19/150, Train Loss: 5.0326, Val Loss: 6.0144, F1 Macro: 0.4410, Recall Macro: 0.4438\n",
      "Epoch 20/150, Train Loss: 5.0073, Val Loss: 6.0306, F1 Macro: 0.4333, Recall Macro: 0.4330\n",
      "Epoch 21/150, Train Loss: 4.9901, Val Loss: 6.0359, F1 Macro: 0.4321, Recall Macro: 0.4324\n",
      "Epoch 22/150, Train Loss: 4.9695, Val Loss: 6.0652, F1 Macro: 0.4421, Recall Macro: 0.4465\n",
      "Epoch 23/150, Train Loss: 4.9516, Val Loss: 6.0728, F1 Macro: 0.4386, Recall Macro: 0.4421\n",
      "Epoch 24/150, Train Loss: 4.9169, Val Loss: 6.0765, F1 Macro: 0.4298, Recall Macro: 0.4328\n",
      "Early stopping triggered at epoch 24\n",
      "=================================================================================\n",
      "\n",
      "Best F1 Macro: 0.4298, Recall Macro: 0.4328\n",
      "Fold 2 → F1 Macro: 0.4298 | Recall Macro: 0.4328\n",
      "\n",
      "=== Fold 3/3 ===\n",
      "Epoch 1/150, Train Loss: 8.6878, Val Loss: 6.3696, F1 Macro: 0.2269, Recall Macro: 0.2374\n",
      "Epoch 2/150, Train Loss: 6.1261, Val Loss: 5.9410, F1 Macro: 0.3071, Recall Macro: 0.3116\n",
      "Epoch 3/150, Train Loss: 5.8366, Val Loss: 5.8011, F1 Macro: 0.3673, Recall Macro: 0.3679\n",
      "Epoch 4/150, Train Loss: 5.7213, Val Loss: 5.7645, F1 Macro: 0.3855, Recall Macro: 0.3880\n",
      "Epoch 5/150, Train Loss: 5.6403, Val Loss: 5.7427, F1 Macro: 0.4086, Recall Macro: 0.4116\n",
      "Epoch 6/150, Train Loss: 5.5761, Val Loss: 5.7630, F1 Macro: 0.4215, Recall Macro: 0.4230\n",
      "Epoch 7/150, Train Loss: 5.5157, Val Loss: 5.7904, F1 Macro: 0.4290, Recall Macro: 0.4305\n",
      "Epoch 8/150, Train Loss: 5.4549, Val Loss: 5.7887, F1 Macro: 0.4325, Recall Macro: 0.4337\n",
      "Epoch 9/150, Train Loss: 5.4046, Val Loss: 5.8025, F1 Macro: 0.4440, Recall Macro: 0.4467\n",
      "Epoch 10/150, Train Loss: 5.3509, Val Loss: 5.8341, F1 Macro: 0.4404, Recall Macro: 0.4405\n",
      "Epoch 11/150, Train Loss: 5.2998, Val Loss: 5.8650, F1 Macro: 0.4377, Recall Macro: 0.4349\n",
      "Epoch 12/150, Train Loss: 5.2679, Val Loss: 5.8760, F1 Macro: 0.4446, Recall Macro: 0.4465\n",
      "Epoch 13/150, Train Loss: 5.2231, Val Loss: 5.9047, F1 Macro: 0.4398, Recall Macro: 0.4390\n",
      "Epoch 14/150, Train Loss: 5.1888, Val Loss: 5.8908, F1 Macro: 0.4461, Recall Macro: 0.4478\n",
      "Epoch 15/150, Train Loss: 5.1460, Val Loss: 5.9177, F1 Macro: 0.4445, Recall Macro: 0.4428\n",
      "Epoch 16/150, Train Loss: 5.1341, Val Loss: 5.9210, F1 Macro: 0.4381, Recall Macro: 0.4378\n",
      "Epoch 17/150, Train Loss: 5.0955, Val Loss: 5.9516, F1 Macro: 0.4373, Recall Macro: 0.4372\n",
      "Epoch 18/150, Train Loss: 5.0612, Val Loss: 5.9565, F1 Macro: 0.4377, Recall Macro: 0.4343\n",
      "Epoch 19/150, Train Loss: 5.0467, Val Loss: 5.9506, F1 Macro: 0.4366, Recall Macro: 0.4373\n",
      "Epoch 20/150, Train Loss: 5.0080, Val Loss: 5.9982, F1 Macro: 0.4431, Recall Macro: 0.4446\n",
      "Epoch 21/150, Train Loss: 4.9912, Val Loss: 6.0370, F1 Macro: 0.4369, Recall Macro: 0.4358\n",
      "Epoch 22/150, Train Loss: 4.9634, Val Loss: 6.0296, F1 Macro: 0.4345, Recall Macro: 0.4369\n",
      "Epoch 23/150, Train Loss: 4.9534, Val Loss: 6.0516, F1 Macro: 0.4275, Recall Macro: 0.4225\n",
      "Epoch 24/150, Train Loss: 4.9305, Val Loss: 6.0333, F1 Macro: 0.4288, Recall Macro: 0.4254\n",
      "Early stopping triggered at epoch 24\n",
      "=================================================================================\n",
      "\n",
      "Best F1 Macro: 0.4288, Recall Macro: 0.4254\n",
      "Fold 3 → F1 Macro: 0.4288 | Recall Macro: 0.4254\n",
      "\n",
      "=== Average across 3 folds ===\n",
      "Average F1 Macro: 0.4300 | Average Recall Macro: 0.4299\n",
      "\n"
     ]
    }
   ],
   "source": [
    "# variables MLP\n",
    "num_epochs = 150\n",
    "early_stopping_patience = 10\n",
    "learning_rate = 1e-3\n",
    "dropout = 0.2\n",
    "hidden_dim = 256\n",
    "k_folds = 3\n",
    "\n",
    "# define model\n",
    "model = SimpleMLP(\n",
    "    input_dim=input_dim, hidden_dim=hidden_dim, num_classes=output_dim, dropout=dropout\n",
    ")\n",
    "model.fit(\n",
    "    train, # not dataloader but full dataset\n",
    "    k_folds=k_folds,\n",
    "    batch_size=batch_size,\n",
    "    num_epochs=num_epochs,\n",
    "    learning_rate=learning_rate,\n",
    "    early_stopping_patience=early_stopping_patience,\n",
    "    #single_split=0.7,\n",
    "    verbose=True,\n",
    ")\n",
    "\n",
    "# fit model using validation/calibration set \n",
    "# Old implementation\n",
    "# model.fit_on_val_set(\n",
    "#     train_loader,\n",
    "#     calibration_loader,\n",
    "#     num_epochs=num_epochs,\n",
    "#     learning_rate=learning_rate,\n",
    "#     early_stopping_patience=early_stopping_patience,\n",
    "#     verbose=True,\n",
    "# )\n",
    "\n",
    "\n",
    "# predict y, probs, and define y_test\n",
    "y_pred = model.predict(test.X)\n",
    "probs_test = model.predict_proba(test.X)\n",
    "y_test = test.y.numpy()"
   ]
  },
  {
   "cell_type": "code",
   "execution_count": 5,
   "metadata": {},
   "outputs": [
    {
     "name": "stdout",
     "output_type": "stream",
     "text": [
      "Test scores of the basemodel\n",
      "F1 Macro: 0.4312\n",
      "Recall Macro: 0.4324\n",
      "\n"
     ]
    }
   ],
   "source": [
    "# Convert calibrated probabilities to predicted classes\n",
    "y_pred_base = torch.argmax(torch.tensor(probs_test), dim=1)\n",
    "\n",
    "# Initialize metrics\n",
    "f1_macro = F1Score(task=\"multiclass\", average=\"macro\", num_classes=len(test.classes))\n",
    "recall_macro = Recall(task=\"multiclass\", average=\"macro\", num_classes=len(test.classes))\n",
    "\n",
    "# Update metrics with predictions and true labels\n",
    "f1_macro.update(y_pred_base, test.y)\n",
    "recall_macro.update(y_pred_base, test.y)\n",
    "\n",
    "# Compute final values\n",
    "final_f1 = f1_macro.compute()\n",
    "final_recall = recall_macro.compute()\n",
    "\n",
    "# Print results\n",
    "print(\"Test scores of the basemodel\")\n",
    "print(f\"F1 Macro: {final_f1:.4f}\")\n",
    "print(f\"Recall Macro: {final_recall:.4f}\")\n",
    "print(\"\")\n"
   ]
  },
  {
   "cell_type": "markdown",
   "metadata": {},
   "source": [
    "# Post-hoc calibration"
   ]
  },
  {
   "cell_type": "code",
   "execution_count": 6,
   "metadata": {},
   "outputs": [],
   "source": [
    "# relative imports: calibrators\n",
    "from src.calibrators import(\n",
    "    PlattCalibrator,\n",
    "    TemperatureScaling,\n",
    "    TopLabelTemperature,\n",
    "    DirichletCalibration\n",
    ")"
   ]
  },
  {
   "cell_type": "code",
   "execution_count": 7,
   "metadata": {},
   "outputs": [],
   "source": [
    "# extract logits on val & test\n",
    "logits_val = model.predict_logits(calibration.X)  # shape (n_val, n_classes)\n",
    "logits_test = model.predict_logits(test.X)  # shape (n_test, n_classes)"
   ]
  },
  {
   "cell_type": "code",
   "execution_count": 8,
   "metadata": {},
   "outputs": [],
   "source": [
    "# get raw logits from the MLP --> for Platt's scaling specifice; other calibrators use logits!\n",
    "props_val = model.predict_proba(calibration.X)  # shape (n_val, n_classes)\n",
    "probs_test = model.predict_proba(test.X)  # shape (n_test, n_classes)"
   ]
  },
  {
   "cell_type": "markdown",
   "metadata": {},
   "source": [
    "## Platt's scaling \n",
    "Platt’s scaling is a traditional and simple calibration method for binary classifiers, that can be extended to multi-class settings with a one-versus-the-rest approach. It fits a logistic regression model to the model’s uncalibrated scores to convert them into calibrated probabilities (orignialy design by john Platt for SVMs around the 2000s). It has 2 parameters per-class: a weight and a bias. It is found to be limited in extreme multi-class settings, and degrading both calibration and model performance (in our noisy, extreme multi-class healthcare data from federated sources)."
   ]
  },
  {
   "cell_type": "code",
   "execution_count": 8,
   "metadata": {},
   "outputs": [
    {
     "name": "stderr",
     "output_type": "stream",
     "text": [
      "c:\\Users\\Lwsja\\GitHub\\uncertainty-aware-diagnosis\\.venv\\Lib\\site-packages\\sklearn\\linear_model\\_logistic.py:1247: FutureWarning: 'multi_class' was deprecated in version 1.5 and will be removed in 1.7. From then on, it will always use 'multinomial'. Leave it to its default value to avoid this warning.\n",
      "  warnings.warn(\n",
      "c:\\Users\\Lwsja\\GitHub\\uncertainty-aware-diagnosis\\.venv\\Lib\\site-packages\\sklearn\\linear_model\\_logistic.py:465: ConvergenceWarning: lbfgs failed to converge (status=1):\n",
      "STOP: TOTAL NO. OF ITERATIONS REACHED LIMIT.\n",
      "\n",
      "Increase the number of iterations (max_iter) or scale the data as shown in:\n",
      "    https://scikit-learn.org/stable/modules/preprocessing.html\n",
      "Please also refer to the documentation for alternative solver options:\n",
      "    https://scikit-learn.org/stable/modules/linear_model.html#logistic-regression\n",
      "  n_iter_i = _check_optimize_result(\n"
     ]
    }
   ],
   "source": [
    "# variables calibrator\n",
    "C = 0.03\n",
    "solver = \"lbfgs\"\n",
    "log_transform = True\n",
    "\n",
    "# instantiate & fit the Platt calibrator\n",
    "platt = PlattCalibrator(C=C, solver=solver, log_transform=log_transform)\n",
    "platt.fit(props_val, calibration.y.numpy())\n",
    "\n",
    "# use it to get calibrated probabilities on your test set\n",
    "probs_platt_calibrated = platt.predict_proba(probs_test)"
   ]
  },
  {
   "cell_type": "markdown",
   "metadata": {},
   "source": [
    "## Temperature scaling: a reliable baseline\n",
    "\n",
    "Temperature scaling works by multiplying the neural network’s logits by a single scalar parameter. The scaling parameter is determined by minimizing the\n",
    "negative log-likelihood on a dedicated calibration set, which significantly reduces miscalibration without altering the model’s predictive performance. Temperature\n",
    "scaling should provide robust generalization due to its minimal complexity, making it particularly attractive for real-world deployments in extreme multiclass\n",
    "settings where computational simplicity and stability are essential (Guo et al., 2017; Kull et al., 2019; Rajaraman et al., 2022). Given it is using a single parameter it has a low risk on overfitting, with the limitation of only adjusting confidence, not the class ranking nor class-specific biases. It is found that temerature scaling can be a reliable baseline as it does not degrade model performance (as it only adjusts confidence, not ranking), while it can significantly improve calibration."
   ]
  },
  {
   "cell_type": "code",
   "execution_count": 8,
   "metadata": {},
   "outputs": [],
   "source": [
    "# variables calibrator\n",
    "init_temp = 1.5\n",
    "lr = 0.1\n",
    "max_iter = 50\n",
    "\n",
    "# fit temperature\n",
    "temp = TemperatureScaling(\n",
    "  init_temp=init_temp,\n",
    "  lr=lr,\n",
    "  max_iter=max_iter,\n",
    "  device=next(model.parameters()).device\n",
    ")\n",
    "temp.fit(logits_val, calibration.y.numpy())\n",
    "\n",
    "# get calibrated probabilities\n",
    "probs_temp_calibrated = temp.predict_proba(logits_test)"
   ]
  },
  {
   "cell_type": "markdown",
   "metadata": {},
   "source": [
    "## Dirichlet calibration: a more flexible multi-class approach\n",
    "\n",
    "Dirichlet calibration is intentionally designed for multi-class and transforms uncalibrated probabilities into more realistic, better-calibrated probabilities by learning a post-processing function using the Dirichlet distribution. It has three parameters: a weight matrix, a bias vector and a temperature scalar, which together transform the uncalibrated logits via a softmax-like function to produce calibrated probabilities. Therefore it can capture more complex miscalibration than temperature scaling, as it allows class-specific and non-linear adjustment. This comes at the cost of higher risk of overfitting and more required calibration data. It is found that Dirichlet calibration is able to both improve calibration and performance, although temperature scaling could obtain higher calibration.\n"
   ]
  },
  {
   "cell_type": "code",
   "execution_count": 9,
   "metadata": {},
   "outputs": [],
   "source": [
    "# variables calibrator\n",
    "num_classes = logits_val.shape[1]\n",
    "device = \"cpu\"\n",
    "\n",
    "# instantiate & fit the Dirichlet calibrator\n",
    "dirichlet = DirichletCalibration(num_classes=num_classes, device=device)\n",
    "dirichlet.fit(logits_val, calibration.y.numpy())\n",
    "\n",
    "# use it to get calibrated probabilities on your test set\n",
    "probs_dir = dirichlet.predict_proba(logits_test)"
   ]
  },
  {
   "cell_type": "markdown",
   "metadata": {},
   "source": [
    "## Top-label calibration\n",
    "\n",
    "Top-label calibration is a post-hoc calibration method that adjusts the predicted probability only for the top-predicted class (or winning class). Instead of calibrating the full probability distribution across all classes, it focuses only on the confidence of the top guess, therefore it simplifies the calibration problem and makes it fast. This can be desired when you only care about the confidence of the predicted label, not the full distribution, and you have limited calibration data and thus want a simplify the deficult extreme multi-class setting. Limitations (i) Ignores the other class probabilities, so it doesn't correct the full distribution, (ii) it cannot be used if you need well-calibrated probabilities for all classes (e.g., ranking, expected value calculations, multi-label tasks), and (iii) it can give misleading results if the wrong label is top-predicted, since it still calibrates that label as if it were the correct one. All in all, not ideal for automated decision-making in healthcare. Anyhow, an implementation is made and it is findings confirm this reasoning. "
   ]
  },
  {
   "cell_type": "code",
   "execution_count": 12,
   "metadata": {},
   "outputs": [],
   "source": [
    "# fit temperature\n",
    "top_label_temp = TopLabelTemperature(mode=\"top_label\", device=next(model.parameters()).device)\n",
    "top_label_temp.fit(logits_val, calibration.y.numpy())\n",
    "\n",
    "# get calibrated probabilities\n",
    "tl_probs_temp = top_label_temp.predict_proba(logits_test)"
   ]
  },
  {
   "cell_type": "markdown",
   "metadata": {},
   "source": [
    "# Evaluating calibration\n",
    "\n",
    "Performance metrics (closer to 1 is better):\n",
    "- `Macro-F1`: it measures the average F1 score computed independently for each class. It treats all classes equally, regardless of how frequent they are. This avoids bias toward dominant classes, good for balanced performance across classes.\n",
    "- `Recall`: shows how well each class is detected, especially important in domains where missing a class (i.e. rare diseases) is costly. Good for understanding class-wise sensitivity.\n",
    "\n",
    "Calibration metrics (smaller is better):\n",
    "- `Brier score`: measures the mean squared difference between predicted probabilities and true one-hot labels. It combines both confidence and correctness. Good for capturing both accuracy and calibration in one scalar.\n",
    "- `Confidence Expected Calibration Error` (conf-ECE): measures the average difference between confidence and accuracy, binned by confidence level, across all classes. It detects global miscalibration (i.e. over or underconfidence). Good for overall reliability of predicted confidences.\n",
    "- `Classwise-ECE`: computes the ECE separately for each class and then averages it. This reveals per-class calibration problems, which is essential when you care about minority or rare classes. Thus good for detecting imbalanced reliability.\n",
    "\n",
    "This combination:\\\n",
    "(i)   Covers discrimination (via Macro-F1, Recall), \\\n",
    "(ii)  Covers probability quality (via Brier), \\\n",
    "(iii) Covers global and local calibration (Conf-ECE + Classwise ECE)\n",
    "\n",
    "The reliability diagram:\\\n",
    "It is implemented using `pycalib` and is a visualization tool to assess how well a model's predicted probabilities match the actual outcomes, so how calibrated the model is. You could visualise such a diagram per-class, but given our extreme multi-class setting we show only the winning (or top-ranked) class with the highes probability. The X-ax shows the predicted confidence and the y-ax the observed accuracy for predictions in that confidence range. \\\n",
    "*Interpretation*: a perfectly calibrated model will follow the diagonal line (confidence = accuracy). Above the diagonal is underconfident and below is overconfident model estimations. \n"
   ]
  },
  {
   "cell_type": "code",
   "execution_count": 10,
   "metadata": {},
   "outputs": [],
   "source": [
    "# relative imports: calibration evaluator\n",
    "from src.calibrators import Evaluator"
   ]
  },
  {
   "cell_type": "code",
   "execution_count": 11,
   "metadata": {},
   "outputs": [
    {
     "name": "stdout",
     "output_type": "stream",
     "text": [
      "\n",
      "====== Classification Metrics ======\n",
      "\n",
      "Model               F1 Macro          Recall          Brier\n",
      "---------------------------------------------\n",
      "Baseline              0.4312          0.4324          0.2934\n",
      "Temp                  0.4312          0.4324          0.2243\n",
      "Dirichlet             0.4508          0.4778          0.2452\n",
      "\n",
      "====== Calibration (Expected Calibration Error) Metrics ======\n",
      "\n",
      "Model               conf_ECE              classwise_ECE\n",
      "---------------------------------------------\n",
      "Baseline              0.2930                        0.0011\n",
      "Temp                  0.1064                        0.0006\n",
      "Dirichlet             0.1777                        0.0008\n",
      "\n",
      "====== Reliability Diagram ======\n",
      "\n"
     ]
    },
    {
     "data": {
      "image/png": "[encoded data removed]",
      "text/plain": [
       "<Figure size 400x400 with 2 Axes>"
      ]
     },
     "metadata": {},
     "output_type": "display_data"
    }
   ],
   "source": [
    "# Instantiate the evaluator\n",
    "num_classes = len(test.classes)\n",
    "evaluator = Evaluator(num_classes=num_classes)\n",
    "\n",
    "# Prepare the dictionary of model outputs\n",
    "bins = 15 # used for ECE\n",
    "prob_dict = {\n",
    "    \"Baseline\": probs_test,\n",
    "    #\"Platt\": probs_platt_calibrated,\n",
    "    \"Temp\": probs_temp_calibrated,\n",
    "    \"Dirichlet\": probs_dir,\n",
    "}\n",
    "\n",
    "# Evaluate everything: prints F1, Recall, Brier, ECE, and shows plot\n",
    "results, ece_scores = evaluator.evaluate_all(\n",
    "    y_true=test.y,\n",
    "    prob_dict=prob_dict,\n",
    "    bins=bins \n",
    ")"
   ]
  },
  {
   "cell_type": "markdown",
   "metadata": {},
   "source": [
    "Save model and optimizer"
   ]
  },
  {
   "cell_type": "code",
   "execution_count": 13,
   "metadata": {},
   "outputs": [],
   "source": [
    "import copy\n",
    "\n",
    "version = \"0.1\"\n",
    "\n",
    "best_model_state = copy.deepcopy(model.state_dict())\n",
    "optimizer_state = copy.deepcopy(model.optimizer.state_dict())\n",
    "torch.save(best_model_state, f\"./data/model_{version}.pth\")\n",
    "torch.save(optimizer_state, f\"./data/optimizer_{version}.pth\")"
   ]
  },
  {
   "cell_type": "markdown",
   "metadata": {},
   "source": [
    "# Curriculum learning\n",
    "Curriculum learning trains models by first exposing them to easy examples, then gradually increasing task difficulty as learning progresses (similar to and inspired by human learning). It improves training stability and generalization (by avoiding early overfitting on hard/noisy samples).\n",
    "- Decide in what order to train on labeled samples\n",
    "- Use a curriculum-aware dataloader (Pytorch), that dynamically adjusts based on model confidence.\n",
    "\n",
    "### How do we define sample difficulty and the training schedule?\n",
    "| Criterion                      | Description                         | Notes                          |\n",
    "| ------------------------------ | ----------------------------------- | ------------------------------ |\n",
    "| **Model confidence**           | High confidence = easy, low = hard  | Use calibrated probs           |\n",
    "| **MC variance**                | Low variance = easy                 | Epistemic uncertainty          |\n",
    "| **Loss**                       | Low loss = easy                     | Can be noisy early in training |\n",
    "\n",
    "- A simple effective way is to define dificulty as `1 - model_confidence`\n",
    "- Then bin samples into difficulty levels and start by training only on easy samples. Gradually increase max difficulty (per epoch or based on model plateau).\n",
    "\n",
    "\n",
    "## Steps\n",
    "1. Train the baseline model on all data, because we need reasonable weights before confidence estimates are meaningful.\n",
    "2. Fit the calibrator on a held-out calibration set (5-10%) (or cross-validated but additional complexity), to obtain calibrated confidence scores\n",
    "3. Score dificulty for each sample: `1 - calibrated confidence scores` \n",
    "4. Start training, but using curriulum data scheduling (in order of increasing difficulty)"
   ]
  },
  {
   "cell_type": "code",
   "execution_count": null,
   "metadata": {},
   "outputs": [],
   "source": [
    "from uncertainty_aware_diagnosis import CurriculumSampler, plot_curriculum_schedule\n",
    "from uncertainty_aware_diagnosis import SymmetricCrossEntropyLoss"
   ]
  },
  {
   "cell_type": "code",
   "execution_count": 23,
   "metadata": {},
   "outputs": [],
   "source": [
    "# load model\n",
    "model_path = \"./data/model_0.1.pth\"\n",
    "model = SimpleMLP(input_dim=input_dim, hidden_dim=hidden_dim, num_classes=num_classes)\n",
    "model.load_state_dict(torch.load(model_path)) \n",
    "# load and reuse optimizer\n",
    "optimizer_path = \"./data/optimizer_0.1.pth\"\n",
    "model.optimizer.load_state_dict(torch.load(optimizer_path))\n",
    "\n",
    "# instantiate & fit the Dirichlet calibrator\n",
    "logits_cal = model.predict_logits(calibration.X)  # shape (n_val, n_classes)\n",
    "dirichlet = DirichletCalibration(num_classes=logits_cal.shape[1], device=\"cpu\")\n",
    "dirichlet.fit(logits_cal, calibration.y.numpy())"
   ]
  },
  {
   "cell_type": "code",
   "execution_count": null,
   "metadata": {},
   "outputs": [],
   "source": [
    "# compute difficulties\n",
    "model.eval()\n",
    "with torch.no_grad():\n",
    "    logits_train = model.predict_logits(train.X)     \n",
    "\n",
    "probs_calibr = dirichlet.predict_proba(logits_train)\n",
    "conf_train = probs_calibr.max(axis=1)\n",
    "difficulties = 1.0 - torch.tensor(conf_train, dtype=torch.float32)"
   ]
  },
  {
   "cell_type": "code",
   "execution_count": 71,
   "metadata": {},
   "outputs": [],
   "source": [
    "# curriculum parameters\n",
    "init_tau = 0.3\n",
    "delta_tau  = 0.1\n",
    "plateau_patience   = 5\n",
    "plateau_margin = 1e-4\n",
    "early_stopping_patience = 10\n",
    "max_epochs = 250\n",
    "continue_training = True\n",
    "\n",
    "# initialize curriculum loader\n",
    "curriculum_sampler = CurriculumSampler(difficulties, init_tau)\n",
    "train_curriculum_loader = DataLoader(train, batch_size=batch_size, sampler=curriculum_sampler)"
   ]
  },
  {
   "cell_type": "code",
   "execution_count": 72,
   "metadata": {},
   "outputs": [
    {
     "name": "stdout",
     "output_type": "stream",
     "text": [
      "Epoch 00 | τ=0.30 | val-F1=0.3977\n",
      "Epoch 01 | τ=0.30 | val-F1=0.4056\n",
      "Epoch 02 | τ=0.30 | val-F1=0.4158\n",
      "Epoch 03 | τ=0.30 | val-F1=0.4037\n",
      "Epoch 04 | τ=0.30 | val-F1=0.4126\n",
      "Epoch 05 | τ=0.30 | val-F1=0.4111\n",
      "Epoch 06 | τ=0.30 | val-F1=0.4038\n",
      "Epoch 07 | τ=0.30 | val-F1=0.4040\n",
      "Epoch 08 | τ=0.40 | val-F1=0.3792\n",
      "Epoch 09 | τ=0.40 | val-F1=0.3783\n",
      "Epoch 10 | τ=0.40 | val-F1=0.3781\n",
      "Epoch 11 | τ=0.40 | val-F1=0.3735\n",
      "Epoch 12 | τ=0.40 | val-F1=0.3804\n",
      "Epoch 13 | τ=0.40 | val-F1=0.3855\n",
      "Epoch 14 | τ=0.40 | val-F1=0.3839\n",
      "Epoch 15 | τ=0.40 | val-F1=0.3868\n",
      "Epoch 16 | τ=0.40 | val-F1=0.3810\n",
      "Epoch 17 | τ=0.40 | val-F1=0.3838\n",
      "Epoch 18 | τ=0.40 | val-F1=0.3873\n",
      "Epoch 19 | τ=0.40 | val-F1=0.3830\n",
      "Epoch 20 | τ=0.40 | val-F1=0.3914\n",
      "Epoch 21 | τ=0.40 | val-F1=0.3925\n",
      "Epoch 22 | τ=0.40 | val-F1=0.3848\n",
      "Epoch 23 | τ=0.40 | val-F1=0.3884\n",
      "Epoch 24 | τ=0.40 | val-F1=0.3911\n",
      "Epoch 25 | τ=0.40 | val-F1=0.3873\n",
      "Epoch 26 | τ=0.40 | val-F1=0.3928\n",
      "Epoch 27 | τ=0.40 | val-F1=0.3880\n",
      "Epoch 28 | τ=0.40 | val-F1=0.3947\n",
      "Epoch 29 | τ=0.40 | val-F1=0.3897\n",
      "Epoch 30 | τ=0.40 | val-F1=0.3967\n",
      "Epoch 31 | τ=0.40 | val-F1=0.3951\n",
      "Epoch 32 | τ=0.40 | val-F1=0.3953\n",
      "Epoch 33 | τ=0.40 | val-F1=0.4011\n",
      "Epoch 34 | τ=0.40 | val-F1=0.3869\n",
      "Epoch 35 | τ=0.40 | val-F1=0.4019\n",
      "Epoch 36 | τ=0.40 | val-F1=0.3975\n",
      "Epoch 37 | τ=0.40 | val-F1=0.3958\n",
      "Epoch 38 | τ=0.40 | val-F1=0.3987\n",
      "Epoch 39 | τ=0.40 | val-F1=0.4004\n",
      "Epoch 40 | τ=0.40 | val-F1=0.4039\n",
      "Epoch 41 | τ=0.40 | val-F1=0.4047\n",
      "Epoch 42 | τ=0.40 | val-F1=0.4029\n",
      "Epoch 43 | τ=0.40 | val-F1=0.4123\n",
      "Epoch 44 | τ=0.40 | val-F1=0.3981\n",
      "Epoch 45 | τ=0.40 | val-F1=0.4024\n",
      "Epoch 46 | τ=0.40 | val-F1=0.4035\n",
      "Epoch 47 | τ=0.40 | val-F1=0.4049\n",
      "Epoch 48 | τ=0.40 | val-F1=0.3987\n",
      "Epoch 49 | τ=0.50 | val-F1=0.3734\n",
      "Epoch 50 | τ=0.50 | val-F1=0.3829\n",
      "Epoch 51 | τ=0.50 | val-F1=0.3889\n",
      "Epoch 52 | τ=0.50 | val-F1=0.3831\n",
      "Epoch 53 | τ=0.50 | val-F1=0.3831\n",
      "Epoch 54 | τ=0.50 | val-F1=0.3845\n",
      "Epoch 55 | τ=0.50 | val-F1=0.3982\n",
      "Epoch 56 | τ=0.50 | val-F1=0.3907\n",
      "Epoch 57 | τ=0.50 | val-F1=0.3880\n",
      "Epoch 58 | τ=0.50 | val-F1=0.3930\n",
      "Epoch 59 | τ=0.50 | val-F1=0.3923\n",
      "Epoch 60 | τ=0.50 | val-F1=0.3951\n",
      "Epoch 61 | τ=0.60 | val-F1=0.3826\n",
      "Epoch 62 | τ=0.60 | val-F1=0.3864\n",
      "Epoch 63 | τ=0.60 | val-F1=0.3851\n",
      "Epoch 64 | τ=0.60 | val-F1=0.3877\n",
      "Epoch 65 | τ=0.60 | val-F1=0.3918\n",
      "Epoch 66 | τ=0.60 | val-F1=0.3904\n",
      "Epoch 67 | τ=0.60 | val-F1=0.3812\n",
      "Epoch 68 | τ=0.60 | val-F1=0.3927\n",
      "Epoch 69 | τ=0.60 | val-F1=0.3865\n",
      "Epoch 70 | τ=0.60 | val-F1=0.3948\n",
      "Epoch 71 | τ=0.60 | val-F1=0.3957\n",
      "Epoch 72 | τ=0.60 | val-F1=0.3922\n",
      "Epoch 73 | τ=0.60 | val-F1=0.3962\n",
      "Epoch 74 | τ=0.60 | val-F1=0.3956\n",
      "Epoch 75 | τ=0.60 | val-F1=0.4016\n",
      "Epoch 76 | τ=0.60 | val-F1=0.3981\n",
      "Epoch 77 | τ=0.60 | val-F1=0.3910\n",
      "Epoch 78 | τ=0.60 | val-F1=0.3917\n",
      "Epoch 79 | τ=0.60 | val-F1=0.3979\n",
      "Epoch 80 | τ=0.60 | val-F1=0.3939\n",
      "Epoch 81 | τ=0.70 | val-F1=0.3868\n",
      "Epoch 82 | τ=0.70 | val-F1=0.3942\n",
      "Epoch 83 | τ=0.70 | val-F1=0.3919\n",
      "Epoch 84 | τ=0.70 | val-F1=0.3897\n",
      "Epoch 85 | τ=0.70 | val-F1=0.3872\n",
      "Epoch 86 | τ=0.70 | val-F1=0.3926\n",
      "Epoch 87 | τ=0.70 | val-F1=0.3952\n",
      "Epoch 88 | τ=0.70 | val-F1=0.3958\n",
      "Epoch 89 | τ=0.70 | val-F1=0.4017\n",
      "Epoch 90 | τ=0.70 | val-F1=0.3907\n",
      "Epoch 91 | τ=0.70 | val-F1=0.4004\n",
      "Epoch 92 | τ=0.70 | val-F1=0.4002\n",
      "Epoch 93 | τ=0.70 | val-F1=0.3978\n",
      "Epoch 94 | τ=0.70 | val-F1=0.4023\n",
      "Epoch 95 | τ=0.70 | val-F1=0.3938\n",
      "Epoch 96 | τ=0.70 | val-F1=0.4004\n",
      "Epoch 97 | τ=0.70 | val-F1=0.3961\n",
      "Epoch 98 | τ=0.70 | val-F1=0.3950\n",
      "Epoch 99 | τ=0.70 | val-F1=0.3991\n",
      "Epoch 100 | τ=0.80 | val-F1=0.3929\n",
      "Epoch 101 | τ=0.80 | val-F1=0.4009\n",
      "Epoch 102 | τ=0.80 | val-F1=0.3920\n",
      "Epoch 103 | τ=0.80 | val-F1=0.3977\n",
      "Epoch 104 | τ=0.80 | val-F1=0.3938\n",
      "Epoch 105 | τ=0.80 | val-F1=0.3954\n",
      "Epoch 106 | τ=0.80 | val-F1=0.3975\n",
      "Epoch 107 | τ=0.90 | val-F1=0.3977\n",
      "Epoch 108 | τ=0.90 | val-F1=0.3960\n",
      "Epoch 109 | τ=0.90 | val-F1=0.3938\n",
      "Epoch 110 | τ=0.90 | val-F1=0.3959\n",
      "Epoch 111 | τ=0.90 | val-F1=0.3964\n",
      "Epoch 112 | τ=0.90 | val-F1=0.3986\n",
      "Epoch 113 | τ=0.90 | val-F1=0.3970\n",
      "Epoch 114 | τ=0.90 | val-F1=0.4016\n",
      "Epoch 115 | τ=0.90 | val-F1=0.4008\n",
      "Epoch 116 | τ=0.90 | val-F1=0.3951\n",
      "Epoch 117 | τ=0.90 | val-F1=0.4023\n",
      "Epoch 118 | τ=0.90 | val-F1=0.3958\n",
      "Epoch 119 | τ=0.90 | val-F1=0.3995\n",
      "Epoch 120 | τ=0.90 | val-F1=0.3975\n",
      "Epoch 121 | τ=0.90 | val-F1=0.3957\n",
      "Epoch 122 | τ=0.90 | val-F1=0.3989\n",
      "Epoch 123 | τ=1.00 | val-F1=0.4011\n",
      "Epoch 124 | τ=1.00 | val-F1=0.3972\n",
      "Epoch 125 | τ=1.00 | val-F1=0.3938\n",
      "Epoch 126 | τ=1.00 | val-F1=0.3903\n",
      "Epoch 127 | τ=1.00 | val-F1=0.3935\n",
      "Epoch 128 | τ=1.00 | val-F1=0.3961\n",
      "Epoch 129 | τ=1.00 | val-F1=0.3995\n",
      "Epoch 130 | τ=1.00 | val-F1=0.4052\n",
      "Epoch 131 | τ=1.00 | val-F1=0.3970\n",
      "Epoch 132 | τ=1.00 | val-F1=0.3991\n",
      "Epoch 133 | τ=1.00 | val-F1=0.4047\n",
      "Epoch 134 | τ=1.00 | val-F1=0.3948\n",
      "Epoch 135 | τ=1.00 | val-F1=0.4020\n",
      "Epoch 136 | τ=1.00 | val-F1=0.3944\n",
      "Epoch 137 | τ=1.00 | val-F1=0.4015\n",
      "Epoch 138 | τ=1.00 | val-F1=0.3984\n",
      "Early stopping triggered at epoch 138 (τ = 1.0 for 10+ epochs)\n"
     ]
    }
   ],
   "source": [
    "# Start a new model from scratch, but use the same difficulty schedule\n",
    "curriculum_model = SimpleMLP(\n",
    "    input_dim=input_dim,\n",
    "    hidden_dim=hidden_dim,\n",
    "    num_classes=num_classes,\n",
    "    device=str(device)\n",
    ").to(device)\n",
    "\n",
    "# Reinitialize the optimizer\n",
    "curriculum_model.optimizer = torch.optim.Adam(curriculum_model.parameters(), lr=1e-3)\n",
    "\n",
    "if continue_training:\n",
    "    curriculum_model.load_state_dict(torch.load(model_path))\n",
    "    curriculum_model.optimizer.load_state_dict(torch.load(optimizer_path))\n",
    "\n",
    "# noise robust loss function\n",
    "criterion = SymmetricCrossEntropyLoss()\n",
    "# per-class performance metric\n",
    "metric_f1 = F1Score(task=\"multiclass\", average=\"macro\", num_classes=num_classes).to(device)\n",
    "\n",
    "# Curriculum-aware training loop (keeps optimiser state)\n",
    "best_val = -1.0\n",
    "best_val_epoch = -1.0\n",
    "epochs_no_improve = 0\n",
    "tau = init_tau\n",
    "tau_maxed_epoch = None  # Track when τ reached 1.0\n",
    "\n",
    "# logging scores and tau values for visualization\n",
    "f1_scores: list[float] = []\n",
    "tau_values: list[float] = []\n",
    "\n",
    "for epoch in range(max_epochs):\n",
    "    # training\n",
    "    curriculum_model.train()\n",
    "    for xb, yb in train_curriculum_loader:\n",
    "        xb, yb = xb.to(device), yb.to(device)\n",
    "        curriculum_model.optimizer.zero_grad()\n",
    "        logits = curriculum_model(xb)\n",
    "        loss = criterion(logits, yb)\n",
    "        loss.backward()\n",
    "        curriculum_model.optimizer.step()\n",
    "\n",
    "    # validation\n",
    "    curriculum_model.eval()\n",
    "    metric_f1.reset()\n",
    "    with torch.no_grad():\n",
    "        for xb, yb in calibration_loader:\n",
    "            xb, yb = xb.to(device), yb.to(device)\n",
    "            preds = curriculum_model(xb).argmax(dim=1)\n",
    "            metric_f1.update(preds, yb)\n",
    "    val_f1 = metric_f1.compute().item()\n",
    "    print(f\"Epoch {epoch:02d} | τ={tau:.2f} | val-F1={val_f1:.4f}\")\n",
    "\n",
    "    #  logging \n",
    "    f1_scores.append(val_f1)\n",
    "    tau_values.append(tau)\n",
    "\n",
    "    if val_f1 > best_val + plateau_margin:\n",
    "        best_val = val_f1\n",
    "        best_epoch = epoch\n",
    "\n",
    "    #  plateau detection \n",
    "    if val_f1 > best_val_epoch + plateau_margin:\n",
    "        best_val_epoch = val_f1\n",
    "        epochs_no_improve = 0\n",
    "    else:\n",
    "        epochs_no_improve += 1\n",
    "        if epochs_no_improve >= plateau_patience and tau < 1.0:\n",
    "            tau = min(1.0, tau + delta_tau)  # expose harder samples\n",
    "            curriculum_sampler.set_tau(tau)\n",
    "            train_curriculum_loader = DataLoader(\n",
    "                train, batch_size=batch_size, sampler=curriculum_sampler\n",
    "            )\n",
    "            epochs_no_improve = 0\n",
    "            best_val_epoch = -1.0\n",
    "            if tau == 1.0:\n",
    "                tau_maxed_epoch = epoch\n",
    "\n",
    "    # early stopping after τ = 1.0 \n",
    "    if tau == 1.0 and tau_maxed_epoch is not None:\n",
    "        if epoch - tau_maxed_epoch >= early_stopping_patience:\n",
    "            print(f\"Early stopping triggered at epoch {epoch} (τ = 1.0 for {early_stopping_patience}+ epochs)\")\n",
    "            print(f\"Best validation F1: {best_val:.4f} at epoch {best_epoch}\")\n",
    "            break"
   ]
  },
  {
   "cell_type": "markdown",
   "metadata": {},
   "source": [
    "### Curriculum-aware dataloader that adapts based on model plateau \n",
    "- The variable `tau` defines the maximum allowed difficulty of samples used for training.\n",
    "- `difficulty = 1 − calibrated confidence`, so tau = 0.3 means only \"easy\" examples (confidence >= 0.7) are used.\n",
    "- After every epoch, the model is evaluated, if the model fails to improve by more than a `plateau_margin` for `plateau_patience` epochs, then tau is updated and the curriculum gets harder: `tau = min(1.0, tau + delta_tau)`\n"
   ]
  },
  {
   "cell_type": "code",
   "execution_count": 73,
   "metadata": {},
   "outputs": [
    {
     "data": {
      "application/vnd.plotly.v1+json": {
       "config": {
        "plotlyServerURL": "https://plot.ly"
       },
       "data": [
        {
         "line": {
          "color": "blue"
         },
         "marker": {
          "size": 8,
          "symbol": "circle"
         },
         "mode": "lines+markers",
         "name": "Validation F1",
         "type": "scatter",
         "x": {
          "bdata": "AAABAAIAAwAEAAUABgAHAAgACQAKAAsADAANAA4ADwAQABEAEgATABQAFQAWABcAGAAZABoAGwAcAB0AHgAfACAAIQAiACMAJAAlACYAJwAoACkAKgArACwALQAuAC8AMAAxADIAMwA0ADUANgA3ADgAOQA6ADsAPAA9AD4APwBAAEEAQgBDAEQARQBGAEcASABJAEoASwBMAE0ATgBPAFAAUQBSAFMAVABVAFYAVwBYAFkAWgBbAFwAXQBeAF8AYABhAGIAYwBkAGUAZgBnAGgAaQBqAGsAbABtAG4AbwBwAHEAcgBzAHQAdQB2AHcAeAB5AHoAewB8AH0AfgB/AIAAgQCCAIMAhACFAIYAhwCIAIkAigA=",
          "dtype": "i2"
         },
         "y": {
          "bdata": "AAAAQK9z2T8AAABgAvXZPwAAACAlnNo/AAAAQObV2T8AAAAgRGjaPwAAACDNT9o/AAAAoH7Y2T8AAACAKdvZPwAAAMAyRNg/AAAAgFI12D8AAACARzLYPwAAAKAM6Nc/AAAA4L9X2D8AAAAgSKvYPwAAAKADkdg/AAAAwOLB2D8AAADAfWHYPwAAAKCAkNg/AAAAIDzK2D8AAACgyILYPwAAAODVDNk/AAAAgH4f2T8AAADg65/YPwAAAADh2tg/AAAA4LIH2T8AAAAgjMnYPwAAAODdItk/AAAAQJ3V2D8AAACgQEPZPwAAAKBE8dg/AAAA4E5k2T8AAABgIUnZPwAAAMCXTNk/AAAAwNCq2T8AAACglsPYPwAAACA/uNk/AAAA4C1x2T8AAABgJFTZPwAAACAxhNk/AAAAIImf2T8AAAAA7dnZPwAAAGDt5tk/AAAAoNjJ2T8AAACgP2PaPwAAAIAbe9k/AAAAACfB2T8AAACgL9LZPwAAAEAu6tk/AAAAwLOD2T8AAADA9+XXPwAAAGC5gdg/AAAAoIDk2D8AAAAgXoTYPwAAAECbhNg/AAAAYEyc2D8AAACggnvZPwAAAACSANk/AAAAgJ/V2D8AAAAgaybZPwAAAKDyG9k/AAAAoIdI2T8AAACgSHzYPwAAAAAzu9g/AAAAQBil2D8AAABgq9DYPwAAAMDBEtk/AAAAoMz82D8AAACAd2XYPwAAACBfIdk/AAAA4HS82D8AAAAA4ETZPwAAAOCEUtk/AAAAgGUZ2T8AAADARlvZPwAAAOBJUtk/AAAAwKez2T8AAADguXrZPwAAAEACBtk/AAAAIGgS2T8AAACAjXbZPwAAAKBkNdk/AAAAgBnC2D8AAABAJDrZPwAAAOCYFNk/AAAAAIrw2D8AAADgNsjYPwAAAIDwH9k/AAAAQAlL2T8AAABAIVXZPwAAAAA6tdk/AAAAABwB2T8AAADAap/ZPwAAAKAPndk/AAAAIFR12T8AAACAir/ZPwAAAMCqNNk/AAAAgGWf2T8AAACgZVnZPwAAAMDpRtk/AAAAID+L2T8AAACA9SXZPwAAAECNqNk/AAAA4CIX2T8AAAAAQ3TZPwAAAGA2NNk/AAAAIM1N2T8AAAAgEHDZPwAAAGCRdNk/AAAAIDpY2T8AAABA9DPZPwAAAOAvV9k/AAAAQERe2T8AAAAAW4LZPwAAAID9aNk/AAAAABi02T8AAABAM6fZPwAAAKCaSNk/AAAAQG6/2T8AAAAAiVTZPwAAAMDdkdk/AAAAABdw2T8AAACA8FPZPwAAAOAth9k/AAAAYAOs2T8AAAAg+WvZPwAAAODEM9k/AAAAwDj62D8AAABgti7ZPwAAACBAWdk/AAAAADaR2T8AAAAAUu/ZPwAAAMBQaNk/AAAAAJmL2T8AAADACObZPwAAAGCkQ9k/AAAAoLy52T8AAABA8j3ZPwAAAMCpsdk/AAAAABZ/2T8=",
          "dtype": "f8"
         },
         "yaxis": "y"
        },
        {
         "line": {
          "color": "red",
          "dash": "dash"
         },
         "marker": {
          "size": 8,
          "symbol": "square"
         },
         "mode": "lines+markers",
         "name": "Tau (Difficulty Threshold)",
         "type": "scatter",
         "x": {
          "bdata": "AAABAAIAAwAEAAUABgAHAAgACQAKAAsADAANAA4ADwAQABEAEgATABQAFQAWABcAGAAZABoAGwAcAB0AHgAfACAAIQAiACMAJAAlACYAJwAoACkAKgArACwALQAuAC8AMAAxADIAMwA0ADUANgA3ADgAOQA6ADsAPAA9AD4APwBAAEEAQgBDAEQARQBGAEcASABJAEoASwBMAE0ATgBPAFAAUQBSAFMAVABVAFYAVwBYAFkAWgBbAFwAXQBeAF8AYABhAGIAYwBkAGUAZgBnAGgAaQBqAGsAbABtAG4AbwBwAHEAcgBzAHQAdQB2AHcAeAB5AHoAewB8AH0AfgB/AIAAgQCCAIMAhACFAIYAhwCIAIkAigA=",
          "dtype": "i2"
         },
         "y": {
          "bdata": "MzMzMzMz0z8zMzMzMzPTPzMzMzMzM9M/MzMzMzMz0z8zMzMzMzPTPzMzMzMzM9M/MzMzMzMz0z8zMzMzMzPTP5qZmZmZmdk/mpmZmZmZ2T+amZmZmZnZP5qZmZmZmdk/mpmZmZmZ2T+amZmZmZnZP5qZmZmZmdk/mpmZmZmZ2T+amZmZmZnZP5qZmZmZmdk/mpmZmZmZ2T+amZmZmZnZP5qZmZmZmdk/mpmZmZmZ2T+amZmZmZnZP5qZmZmZmdk/mpmZmZmZ2T+amZmZmZnZP5qZmZmZmdk/mpmZmZmZ2T+amZmZmZnZP5qZmZmZmdk/mpmZmZmZ2T+amZmZmZnZP5qZmZmZmdk/mpmZmZmZ2T+amZmZmZnZP5qZmZmZmdk/mpmZmZmZ2T+amZmZmZnZP5qZmZmZmdk/mpmZmZmZ2T+amZmZmZnZP5qZmZmZmdk/mpmZmZmZ2T+amZmZmZnZP5qZmZmZmdk/mpmZmZmZ2T+amZmZmZnZP5qZmZmZmdk/mpmZmZmZ2T8AAAAAAADgPwAAAAAAAOA/AAAAAAAA4D8AAAAAAADgPwAAAAAAAOA/AAAAAAAA4D8AAAAAAADgPwAAAAAAAOA/AAAAAAAA4D8AAAAAAADgPwAAAAAAAOA/AAAAAAAA4D8zMzMzMzPjPzMzMzMzM+M/MzMzMzMz4z8zMzMzMzPjPzMzMzMzM+M/MzMzMzMz4z8zMzMzMzPjPzMzMzMzM+M/MzMzMzMz4z8zMzMzMzPjPzMzMzMzM+M/MzMzMzMz4z8zMzMzMzPjPzMzMzMzM+M/MzMzMzMz4z8zMzMzMzPjPzMzMzMzM+M/MzMzMzMz4z8zMzMzMzPjPzMzMzMzM+M/ZmZmZmZm5j9mZmZmZmbmP2ZmZmZmZuY/ZmZmZmZm5j9mZmZmZmbmP2ZmZmZmZuY/ZmZmZmZm5j9mZmZmZmbmP2ZmZmZmZuY/ZmZmZmZm5j9mZmZmZmbmP2ZmZmZmZuY/ZmZmZmZm5j9mZmZmZmbmP2ZmZmZmZuY/ZmZmZmZm5j9mZmZmZmbmP2ZmZmZmZuY/ZmZmZmZm5j+ZmZmZmZnpP5mZmZmZmek/mZmZmZmZ6T+ZmZmZmZnpP5mZmZmZmek/mZmZmZmZ6T+ZmZmZmZnpP8zMzMzMzOw/zMzMzMzM7D/MzMzMzMzsP8zMzMzMzOw/zMzMzMzM7D/MzMzMzMzsP8zMzMzMzOw/zMzMzMzM7D/MzMzMzMzsP8zMzMzMzOw/zMzMzMzM7D/MzMzMzMzsP8zMzMzMzOw/zMzMzMzM7D/MzMzMzMzsP8zMzMzMzOw/////////7z/////////vP////////+8/////////7z/////////vP////////+8/AAAAAAAA8D8AAAAAAADwPwAAAAAAAPA/AAAAAAAA8D8AAAAAAADwPwAAAAAAAPA/AAAAAAAA8D8AAAAAAADwPwAAAAAAAPA/AAAAAAAA8D8=",
          "dtype": "f8"
         },
         "yaxis": "y2"
        }
       ],
       "layout": {
        "height": 500,
        "legend": {
         "x": 0.01,
         "y": 1.14
        },
        "margin": {
         "b": 50,
         "l": 60,
         "r": 60,
         "t": 70
        },
        "template": {
         "data": {
          "bar": [
           {
            "error_x": {
             "color": "#2a3f5f"
            },
            "error_y": {
             "color": "#2a3f5f"
            },
            "marker": {
             "line": {
              "color": "#E5ECF6",
              "width": 0.5
             },
             "pattern": {
              "fillmode": "overlay",
              "size": 10,
              "solidity": 0.2
             }
            },
            "type": "bar"
           }
          ],
          "barpolar": [
           {
            "marker": {
             "line": {
              "color": "#E5ECF6",
              "width": 0.5
             },
             "pattern": {
              "fillmode": "overlay",
              "size": 10,
              "solidity": 0.2
             }
            },
            "type": "barpolar"
           }
          ],
          "carpet": [
           {
            "aaxis": {
             "endlinecolor": "#2a3f5f",
             "gridcolor": "white",
             "linecolor": "white",
             "minorgridcolor": "white",
             "startlinecolor": "#2a3f5f"
            },
            "baxis": {
             "endlinecolor": "#2a3f5f",
             "gridcolor": "white",
             "linecolor": "white",
             "minorgridcolor": "white",
             "startlinecolor": "#2a3f5f"
            },
            "type": "carpet"
           }
          ],
          "choropleth": [
           {
            "colorbar": {
             "outlinewidth": 0,
             "ticks": ""
            },
            "type": "choropleth"
           }
          ],
          "contour": [
           {
            "colorbar": {
             "outlinewidth": 0,
             "ticks": ""
            },
            "colorscale": [
             [
              0,
              "#0d0887"
             ],
             [
              0.1111111111111111,
              "#46039f"
             ],
             [
              0.2222222222222222,
              "#7201a8"
             ],
             [
              0.3333333333333333,
              "#9c179e"
             ],
             [
              0.4444444444444444,
              "#bd3786"
             ],
             [
              0.5555555555555556,
              "#d8576b"
             ],
             [
              0.6666666666666666,
              "#ed7953"
             ],
             [
              0.7777777777777778,
              "#fb9f3a"
             ],
             [
              0.8888888888888888,
              "#fdca26"
             ],
             [
              1,
              "#f0f921"
             ]
            ],
            "type": "contour"
           }
          ],
          "contourcarpet": [
           {
            "colorbar": {
             "outlinewidth": 0,
             "ticks": ""
            },
            "type": "contourcarpet"
           }
          ],
          "heatmap": [
           {
            "colorbar": {
             "outlinewidth": 0,
             "ticks": ""
            },
            "colorscale": [
             [
              0,
              "#0d0887"
             ],
             [
              0.1111111111111111,
              "#46039f"
             ],
             [
              0.2222222222222222,
              "#7201a8"
             ],
             [
              0.3333333333333333,
              "#9c179e"
             ],
             [
              0.4444444444444444,
              "#bd3786"
             ],
             [
              0.5555555555555556,
              "#d8576b"
             ],
             [
              0.6666666666666666,
              "#ed7953"
             ],
             [
              0.7777777777777778,
              "#fb9f3a"
             ],
             [
              0.8888888888888888,
              "#fdca26"
             ],
             [
              1,
              "#f0f921"
             ]
            ],
            "type": "heatmap"
           }
          ],
          "histogram": [
           {
            "marker": {
             "pattern": {
              "fillmode": "overlay",
              "size": 10,
              "solidity": 0.2
             }
            },
            "type": "histogram"
           }
          ],
          "histogram2d": [
           {
            "colorbar": {
             "outlinewidth": 0,
             "ticks": ""
            },
            "colorscale": [
             [
              0,
              "#0d0887"
             ],
             [
              0.1111111111111111,
              "#46039f"
             ],
             [
              0.2222222222222222,
              "#7201a8"
             ],
             [
              0.3333333333333333,
              "#9c179e"
             ],
             [
              0.4444444444444444,
              "#bd3786"
             ],
             [
              0.5555555555555556,
              "#d8576b"
             ],
             [
              0.6666666666666666,
              "#ed7953"
             ],
             [
              0.7777777777777778,
              "#fb9f3a"
             ],
             [
              0.8888888888888888,
              "#fdca26"
             ],
             [
              1,
              "#f0f921"
             ]
            ],
            "type": "histogram2d"
           }
          ],
          "histogram2dcontour": [
           {
            "colorbar": {
             "outlinewidth": 0,
             "ticks": ""
            },
            "colorscale": [
             [
              0,
              "#0d0887"
             ],
             [
              0.1111111111111111,
              "#46039f"
             ],
             [
              0.2222222222222222,
              "#7201a8"
             ],
             [
              0.3333333333333333,
              "#9c179e"
             ],
             [
              0.4444444444444444,
              "#bd3786"
             ],
             [
              0.5555555555555556,
              "#d8576b"
             ],
             [
              0.6666666666666666,
              "#ed7953"
             ],
             [
              0.7777777777777778,
              "#fb9f3a"
             ],
             [
              0.8888888888888888,
              "#fdca26"
             ],
             [
              1,
              "#f0f921"
             ]
            ],
            "type": "histogram2dcontour"
           }
          ],
          "mesh3d": [
           {
            "colorbar": {
             "outlinewidth": 0,
             "ticks": ""
            },
            "type": "mesh3d"
           }
          ],
          "parcoords": [
           {
            "line": {
             "colorbar": {
              "outlinewidth": 0,
              "ticks": ""
             }
            },
            "type": "parcoords"
           }
          ],
          "pie": [
           {
            "automargin": true,
            "type": "pie"
           }
          ],
          "scatter": [
           {
            "fillpattern": {
             "fillmode": "overlay",
             "size": 10,
             "solidity": 0.2
            },
            "type": "scatter"
           }
          ],
          "scatter3d": [
           {
            "line": {
             "colorbar": {
              "outlinewidth": 0,
              "ticks": ""
             }
            },
            "marker": {
             "colorbar": {
              "outlinewidth": 0,
              "ticks": ""
             }
            },
            "type": "scatter3d"
           }
          ],
          "scattercarpet": [
           {
            "marker": {
             "colorbar": {
              "outlinewidth": 0,
              "ticks": ""
             }
            },
            "type": "scattercarpet"
           }
          ],
          "scattergeo": [
           {
            "marker": {
             "colorbar": {
              "outlinewidth": 0,
              "ticks": ""
             }
            },
            "type": "scattergeo"
           }
          ],
          "scattergl": [
           {
            "marker": {
             "colorbar": {
              "outlinewidth": 0,
              "ticks": ""
             }
            },
            "type": "scattergl"
           }
          ],
          "scattermap": [
           {
            "marker": {
             "colorbar": {
              "outlinewidth": 0,
              "ticks": ""
             }
            },
            "type": "scattermap"
           }
          ],
          "scattermapbox": [
           {
            "marker": {
             "colorbar": {
              "outlinewidth": 0,
              "ticks": ""
             }
            },
            "type": "scattermapbox"
           }
          ],
          "scatterpolar": [
           {
            "marker": {
             "colorbar": {
              "outlinewidth": 0,
              "ticks": ""
             }
            },
            "type": "scatterpolar"
           }
          ],
          "scatterpolargl": [
           {
            "marker": {
             "colorbar": {
              "outlinewidth": 0,
              "ticks": ""
             }
            },
            "type": "scatterpolargl"
           }
          ],
          "scatterternary": [
           {
            "marker": {
             "colorbar": {
              "outlinewidth": 0,
              "ticks": ""
             }
            },
            "type": "scatterternary"
           }
          ],
          "surface": [
           {
            "colorbar": {
             "outlinewidth": 0,
             "ticks": ""
            },
            "colorscale": [
             [
              0,
              "#0d0887"
             ],
             [
              0.1111111111111111,
              "#46039f"
             ],
             [
              0.2222222222222222,
              "#7201a8"
             ],
             [
              0.3333333333333333,
              "#9c179e"
             ],
             [
              0.4444444444444444,
              "#bd3786"
             ],
             [
              0.5555555555555556,
              "#d8576b"
             ],
             [
              0.6666666666666666,
              "#ed7953"
             ],
             [
              0.7777777777777778,
              "#fb9f3a"
             ],
             [
              0.8888888888888888,
              "#fdca26"
             ],
             [
              1,
              "#f0f921"
             ]
            ],
            "type": "surface"
           }
          ],
          "table": [
           {
            "cells": {
             "fill": {
              "color": "#EBF0F8"
             },
             "line": {
              "color": "white"
             }
            },
            "header": {
             "fill": {
              "color": "#C8D4E3"
             },
             "line": {
              "color": "white"
             }
            },
            "type": "table"
           }
          ]
         },
         "layout": {
          "annotationdefaults": {
           "arrowcolor": "#2a3f5f",
           "arrowhead": 0,
           "arrowwidth": 1
          },
          "autotypenumbers": "strict",
          "coloraxis": {
           "colorbar": {
            "outlinewidth": 0,
            "ticks": ""
           }
          },
          "colorscale": {
           "diverging": [
            [
             0,
             "#8e0152"
            ],
            [
             0.1,
             "#c51b7d"
            ],
            [
             0.2,
             "#de77ae"
            ],
            [
             0.3,
             "#f1b6da"
            ],
            [
             0.4,
             "#fde0ef"
            ],
            [
             0.5,
             "#f7f7f7"
            ],
            [
             0.6,
             "#e6f5d0"
            ],
            [
             0.7,
             "#b8e186"
            ],
            [
             0.8,
             "#7fbc41"
            ],
            [
             0.9,
             "#4d9221"
            ],
            [
             1,
             "#276419"
            ]
           ],
           "sequential": [
            [
             0,
             "#0d0887"
            ],
            [
             0.1111111111111111,
             "#46039f"
            ],
            [
             0.2222222222222222,
             "#7201a8"
            ],
            [
             0.3333333333333333,
             "#9c179e"
            ],
            [
             0.4444444444444444,
             "#bd3786"
            ],
            [
             0.5555555555555556,
             "#d8576b"
            ],
            [
             0.6666666666666666,
             "#ed7953"
            ],
            [
             0.7777777777777778,
             "#fb9f3a"
            ],
            [
             0.8888888888888888,
             "#fdca26"
            ],
            [
             1,
             "#f0f921"
            ]
           ],
           "sequentialminus": [
            [
             0,
             "#0d0887"
            ],
            [
             0.1111111111111111,
             "#46039f"
            ],
            [
             0.2222222222222222,
             "#7201a8"
            ],
            [
             0.3333333333333333,
             "#9c179e"
            ],
            [
             0.4444444444444444,
             "#bd3786"
            ],
            [
             0.5555555555555556,
             "#d8576b"
            ],
            [
             0.6666666666666666,
             "#ed7953"
            ],
            [
             0.7777777777777778,
             "#fb9f3a"
            ],
            [
             0.8888888888888888,
             "#fdca26"
            ],
            [
             1,
             "#f0f921"
            ]
           ]
          },
          "colorway": [
           "#636efa",
           "#EF553B",
           "#00cc96",
           "#ab63fa",
           "#FFA15A",
           "#19d3f3",
           "#FF6692",
           "#B6E880",
           "#FF97FF",
           "#FECB52"
          ],
          "font": {
           "color": "#2a3f5f"
          },
          "geo": {
           "bgcolor": "white",
           "lakecolor": "white",
           "landcolor": "#E5ECF6",
           "showlakes": true,
           "showland": true,
           "subunitcolor": "white"
          },
          "hoverlabel": {
           "align": "left"
          },
          "hovermode": "closest",
          "mapbox": {
           "style": "light"
          },
          "paper_bgcolor": "white",
          "plot_bgcolor": "#E5ECF6",
          "polar": {
           "angularaxis": {
            "gridcolor": "white",
            "linecolor": "white",
            "ticks": ""
           },
           "bgcolor": "#E5ECF6",
           "radialaxis": {
            "gridcolor": "white",
            "linecolor": "white",
            "ticks": ""
           }
          },
          "scene": {
           "xaxis": {
            "backgroundcolor": "#E5ECF6",
            "gridcolor": "white",
            "gridwidth": 2,
            "linecolor": "white",
            "showbackground": true,
            "ticks": "",
            "zerolinecolor": "white"
           },
           "yaxis": {
            "backgroundcolor": "#E5ECF6",
            "gridcolor": "white",
            "gridwidth": 2,
            "linecolor": "white",
            "showbackground": true,
            "ticks": "",
            "zerolinecolor": "white"
           },
           "zaxis": {
            "backgroundcolor": "#E5ECF6",
            "gridcolor": "white",
            "gridwidth": 2,
            "linecolor": "white",
            "showbackground": true,
            "ticks": "",
            "zerolinecolor": "white"
           }
          },
          "shapedefaults": {
           "line": {
            "color": "#2a3f5f"
           }
          },
          "ternary": {
           "aaxis": {
            "gridcolor": "white",
            "linecolor": "white",
            "ticks": ""
           },
           "baxis": {
            "gridcolor": "white",
            "linecolor": "white",
            "ticks": ""
           },
           "bgcolor": "#E5ECF6",
           "caxis": {
            "gridcolor": "white",
            "linecolor": "white",
            "ticks": ""
           }
          },
          "title": {
           "x": 0.05
          },
          "xaxis": {
           "automargin": true,
           "gridcolor": "white",
           "linecolor": "white",
           "ticks": "",
           "title": {
            "standoff": 15
           },
           "zerolinecolor": "white",
           "zerolinewidth": 2
          },
          "yaxis": {
           "automargin": true,
           "gridcolor": "white",
           "linecolor": "white",
           "ticks": "",
           "title": {
            "standoff": 15
           },
           "zerolinecolor": "white",
           "zerolinewidth": 2
          }
         }
        },
        "title": {
         "font": {
          "family": "Arial",
          "size": 18
         },
         "text": "Tau schedule vs. Validation F1",
         "x": 0.5
        },
        "width": 900,
        "xaxis": {
         "title": {
          "text": "Epoch"
         }
        },
        "yaxis": {
         "color": "blue",
         "side": "left",
         "title": {
          "text": "Validation F1"
         }
        },
        "yaxis2": {
         "color": "red",
         "overlaying": "y",
         "side": "right",
         "title": {
          "text": "Tau (Difficulty Threshold)"
         }
        }
       }
      }
     },
     "metadata": {},
     "output_type": "display_data"
    }
   ],
   "source": [
    "fig = plot_curriculum_schedule(\n",
    "    f1_scores=f1_scores,\n",
    "    tau_values=tau_values,\n",
    "    title=\"Tau schedule vs. Validation F1\",\n",
    "    #save_path=Path(\"figures/demo_curriculum.png\"), \n",
    ")"
   ]
  },
  {
   "cell_type": "markdown",
   "metadata": {},
   "source": [
    "### Evaluate Curiculum learning improvement"
   ]
  },
  {
   "cell_type": "code",
   "execution_count": 74,
   "metadata": {},
   "outputs": [],
   "source": [
    "# calibrate new model\n",
    "curriculum_model.eval()\n",
    "logits_cal = curriculum_model.predict_logits(calibration.X)  # shape (n_val, n_classes)\n",
    "dirichlet = DirichletCalibration(num_classes=logits_cal.shape[1], device=device)\n",
    "dirichlet.fit(logits_cal, calibration.y.numpy())\n",
    "\n",
    "# compute test probs with new model\n",
    "with torch.no_grad():\n",
    "    logits_train = curriculum_model.predict_logits(test.X)     \n",
    "\n",
    "if continue_training:\n",
    "    probs_curiculum = dirichlet.predict_proba(logits_train)\n",
    "else:\n",
    "    probs_curiculum_new = dirichlet.predict_proba(logits_train)"
   ]
  },
  {
   "cell_type": "code",
   "execution_count": 75,
   "metadata": {},
   "outputs": [
    {
     "name": "stdout",
     "output_type": "stream",
     "text": [
      "\n",
      "====== Classification Metrics ======\n",
      "\n",
      "Model               F1 Macro          Recall          Brier\n",
      "---------------------------------------------\n",
      "Baseline              0.4508          0.4778          0.2452\n",
      "Curiculum             0.4176          0.4407          0.2875\n",
      "Curiculum (new)       0.4418          0.4579          0.2594\n",
      "\n",
      "====== Calibration (Expected Calibration Error) Metrics ======\n",
      "\n",
      "Model               conf_ECE              classwise_ECE\n",
      "---------------------------------------------\n",
      "Baseline              0.1777                        0.0008\n",
      "Curiculum             0.2472                        0.0010\n",
      "Curiculum (new)       0.2215                        0.0009\n",
      "\n",
      "====== Reliability Diagram ======\n",
      "\n"
     ]
    },
    {
     "data": {
      "image/png": "[encoded data removed]",
      "text/plain": [
       "<Figure size 400x400 with 2 Axes>"
      ]
     },
     "metadata": {},
     "output_type": "display_data"
    }
   ],
   "source": [
    "# Instantiate the evaluator\n",
    "num_classes = len(test.classes)\n",
    "evaluator = Evaluator(num_classes=num_classes)\n",
    "\n",
    "# Prepare the dictionary of model outputs\n",
    "bins = 15 # used for ECE\n",
    "prob_dict = {\n",
    "    \"Baseline\": probs_dir,\n",
    "    \"Curiculum\": probs_curiculum,\n",
    "    \"Curiculum (new)\": probs_curiculum_new,\n",
    "}\n",
    "\n",
    "# Evaluate everything: prints F1, Recall, Brier, ECE, and shows plot\n",
    "results, ece_scores = evaluator.evaluate_all(\n",
    "    y_true=test.y,\n",
    "    prob_dict=prob_dict,\n",
    "    bins=bins \n",
    ")"
   ]
  },
  {
   "cell_type": "markdown",
   "metadata": {},
   "source": [
    "# Active learning\n",
    "\n",
    "Standard uncertainty-based sampling might fail with noise, because Uncertainty ≠ informativeness: Noisy or mislabeled examples tend to have high uncertainty, but the model doesn’t learn useful decision boundaries from them.\n",
    "\n",
    "Possible approaches:\n",
    "- Uncertainty sampeling with confidence thresholding (simple but fragile to noise): Instead of just choosing the top-k most uncertain, select examples in a mid-range of uncertainty (not max uncertainty). This avoids both overconfident easy cases and highly noisy uncertain ones.\n",
    "- Monte Carlo Dropout (still quite simple and more informative): Use MC dropout to estimate uncertainty due to model parameters (epistemic uncertainty), not noise (aleatoric). Focus on samples with high variance in predictions across dropout passes. This avoids many noisy points, because noise yields high entropy but low variance. Inspired by: ensemble Disagreement (Query-by-Committee), which trains an ensemble and select examples where committee members disagree most.\n",
    "-  diversity-based samplin (more diverse sampeling, but complex modeling): Instead of using uncertainty, select diverse samples via clustering or embedding-space distance (e.g. KMeans in feature space). This doesnt rely on model confidence at all and therefore is more robust against label noise.\n",
    "- Loss prediction / learning-to-reweight: Train a small auxiliary model to predict label quality. Use this to ignore high-loss examples during sampling. Related to co-teaching frameworks (method for DL with label noise).\n",
    "- Approaches can be combined: (1) Filter out high-entropy samples / select samples with a model confidence between 0.7 and 0.5, (2) rank remaining by MC Dropout variance, and (3) select a diverse subset (e.g., via k-means clustering or KNN sparsity)\n",
    "\n",
    "### Goals for your active learning strategy:\n",
    "1. Avoid selecting noisy samples (reduce wasted budget)\n",
    "2. Handle class imbalance (don’t oversample majority classes)\n",
    "3. Account for domain heterogeneity (ensure coverage of different data subpopulations)\n",
    "\n",
    "### Step 1: select informative samples (just below 70% confidence and high variance)\n",
    "- Compute predicted confidence and MC Dropout variance (+20 forward passes).\n",
    "- Filter out: high confidence (>70%) and extremely low confidence (<30% ?) and low variance (likely aleatoric/noise) "
   ]
  },
  {
   "cell_type": "code",
   "execution_count": null,
   "metadata": {},
   "outputs": [],
   "source": [
    "from uncertainty_aware_diagnosis import mc_predict_proba\n",
    "import numpy as np\n",
    "\n",
    "no_mc_probs =model.predict_proba(test.X)\n",
    "mc_probs, entropy_uncertainty, var_uncertainty = mc_predict_proba(model, test.X, n_samples=50)\n",
    "\n",
    "print(\"Entropy-based uncertainty:\", np.mean(entropy_uncertainty))\n",
    "print(\"Variance-based uncertainty:\", np.mean(var_uncertainty))"
   ]
  },
  {
   "cell_type": "code",
   "execution_count": null,
   "metadata": {},
   "outputs": [],
   "source": [
    "# Prepare the dictionary of model outputs\n",
    "bins = 15 # used for ECE\n",
    "prob_dict = {\n",
    "    \"Baseline\": no_mc_probs,\n",
    "    \"MC dropout\": mc_probs,\n",
    "}\n",
    "\n",
    "# Evaluate everything: prints F1, Recall, Brier, ECE, and shows plot\n",
    "results, ece_scores = evaluator.evaluate_all(\n",
    "    y_true=test.y,\n",
    "    prob_dict=prob_dict,\n",
    "    bins=bins \n",
    ")"
   ]
  },
  {
   "cell_type": "code",
   "execution_count": null,
   "metadata": {},
   "outputs": [],
   "source": [
    "# Implement filtering for selecting samples for expert-review...."
   ]
  },
  {
   "cell_type": "markdown",
   "metadata": {},
   "source": [
    "### Step 2: control for class imbalance to ensure that rare classes don’t get ignored, or even get additional focus\n",
    "- Stratified sampling: sample K admissions per predicted-class, and potentially limiting the scope further to classes that are just below the performance threshold for usage in practice (below 80% class performance on test data). \n",
    "- potentially combine with class-imbalanced reweighting to help the model learn better once you add the new samples.\n"
   ]
  },
  {
   "cell_type": "code",
   "execution_count": null,
   "metadata": {},
   "outputs": [],
   "source": []
  },
  {
   "cell_type": "markdown",
   "metadata": {},
   "source": [
    "### Step 3: Ensure diversity across the label space\n",
    "- Compute distance to existing labeled set or clustering diversity to guarantee wide coverage."
   ]
  },
  {
   "cell_type": "code",
   "execution_count": null,
   "metadata": {},
   "outputs": [],
   "source": []
  },
  {
   "cell_type": "markdown",
   "metadata": {},
   "source": [
    "### Step 4: Score and select samples using combined criteria\n",
    "- build a acquisition function: \\\n",
    "`score = alpha * epistemic_uncertainty + beta * diversity_score + gamma * class_balance_weight`\\\n",
    "where:\n",
    "  - `epistemic_uncertainty` = MC Dropout variance\n",
    "  - `diversity_score` = distance to existing labeled set or clustering diversity\n",
    "  - `class_balance_weight` = inverse frequency of predicted class and 0 for classes that are good enough\n",
    "- Then sample K admisions for expert review"
   ]
  },
  {
   "cell_type": "code",
   "execution_count": null,
   "metadata": {},
   "outputs": [],
   "source": []
  },
  {
   "cell_type": "markdown",
   "metadata": {},
   "source": [
    "# Abstaining classifier \n",
    "When the model has the option to predict a \"I don't know\" label, it detects unsure sampels and avoids training on it (different as selective classification, where these samples are used for training but not accepted as prediction).\n",
    "(see [github of this paper](https://github.com/thulas/dac-label-noise))\n",
    " "
   ]
  },
  {
   "cell_type": "code",
   "execution_count": null,
   "metadata": {},
   "outputs": [],
   "source": []
  }
 ],
 "metadata": {
  "kernelspec": {
   "display_name": ".venv",
   "language": "python",
   "name": "python3"
  },
  "language_info": {
   "codemirror_mode": {
    "name": "ipython",
    "version": 3
   },
   "file_extension": ".py",
   "mimetype": "text/x-python",
   "name": "python",
   "nbconvert_exporter": "python",
   "pygments_lexer": "ipython3",
   "version": "3.12.3"
  }
 },
 "nbformat": 4,
 "nbformat_minor": 2
}
