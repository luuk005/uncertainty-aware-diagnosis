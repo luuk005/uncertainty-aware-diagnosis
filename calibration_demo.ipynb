{
 "cells": [
  {
   "cell_type": "markdown",
   "metadata": {},
   "source": [
    "# 🎯 Calibration and Evaluation Demo\n",
    "\n",
    "This notebook demonstrates how to use the following post-hoc calibration classes (implemented in pytorch):\n",
    "- `PlattCalibrator`\n",
    "- `TemperatureScaling` \n",
    "- `DirichletCalibration`\n",
    "- `TopLabelTemperature`\n",
    "\n",
    "As well as the `Evaluator` class: The evaluation is designed for **extreme multi-class (thousends of classes) and noisy healthcare data**, where **per-class reliability and performance** is important and **reliable uncertainty quantificaition** is essential for interpretability for automated decision-making.\n",
    "\n",
    "For demonstration purposes it uses synthetic data that simulates these data complexities. The data generation is implemented in `synthetic_admission_code.py` and demonstrated in `synthetic_admissions_preprocessing.ipynb`. And for its base-model it uses the `SimpleMLP` class from `mlp_classifier.py`."
   ]
  },
  {
   "cell_type": "markdown",
   "metadata": {},
   "source": [
    "## Configuration"
   ]
  },
  {
   "cell_type": "code",
   "execution_count": 1,
   "metadata": {},
   "outputs": [],
   "source": [
    "# import data configuration\n",
    "from data.config import data_config\n",
    "\n",
    "# relative imports\n",
    "from src.uncertainty_aware_diagnosis import(\n",
    "    ICD10data, \n",
    "    SimpleMLP, \n",
    ")\n",
    "\n",
    "# absolute imports\n",
    "import polars as pl  # type: ignore\n",
    "import pickle  # type: ignore\n",
    "from torch.utils.data import DataLoader  # type: ignore\n",
    "import torch  # type: ignore\n",
    "from torchmetrics import F1Score, Recall  # type: ignore\n",
    "\n",
    "# paths\n",
    "train_csv = data_config['train_csv']\n",
    "val_csv = data_config['val_csv']\n",
    "test_csv = data_config['test_csv']\n",
    "ohe_pkl = data_config['ohe_pkl']\n",
    "target = data_config['target'] # ICD10 principle diagnosis code\n",
    "\n",
    "# features\n",
    "numerical = data_config['numerical_features']\n",
    "categorical = data_config['categorical_features']\n",
    "high_cardinality_features = data_config['high_cardinality_features']\n",
    "use_embedding = False\n",
    "\n",
    "# variables dataloader\n",
    "batch_size = 32\n",
    "shuffle = True\n",
    "use_subset = False  # use subset of data for faster training\n",
    "subset_size = 64000"
   ]
  },
  {
   "cell_type": "markdown",
   "metadata": {},
   "source": [
    "## Load data"
   ]
  },
  {
   "cell_type": "code",
   "execution_count": 2,
   "metadata": {},
   "outputs": [
    {
     "name": "stdout",
     "output_type": "stream",
     "text": [
      "Number of icd10 classes: 561\n",
      "(input_dim: 517, output_dim: 561)\n"
     ]
    }
   ],
   "source": [
    "# load data\n",
    "with open(ohe_pkl, \"rb\") as f:\n",
    "    ohe_cats = pickle.load(f)\n",
    "\n",
    "train = ICD10data(\n",
    "    csv_path=train_csv,\n",
    "    numerical=numerical,\n",
    "    categorical=categorical,\n",
    "    high_card=[],\n",
    "    target=target,\n",
    "    dropna=True,\n",
    "    use_embedding=False,\n",
    "    ohe_categories=ohe_cats,  # use one-hot encoded categorie of full dataset\n",
    ")\n",
    "calibration = ICD10data(\n",
    "    csv_path=val_csv,\n",
    "    numerical=numerical,\n",
    "    categorical=categorical,\n",
    "    high_card=[],\n",
    "    target=target,\n",
    "    dropna=True,\n",
    "    use_embedding=False,\n",
    "    ohe_categories=ohe_cats,  # use one-hot encoded categorie of full dataset\n",
    "    encoder=train.encoder,  # use encoder from training set\n",
    "    scaler=train.scaler,  # use scalor from train set\n",
    ")\n",
    "test = ICD10data(\n",
    "    csv_path=test_csv,\n",
    "    numerical=numerical,\n",
    "    categorical=categorical,\n",
    "    high_card=[],\n",
    "    target=target,\n",
    "    dropna=True,\n",
    "    use_embedding=False,\n",
    "    ohe_categories=ohe_cats,  # use one-hot encoded categorie of full dataset\n",
    "    encoder=train.encoder,  # use encoder from training set\n",
    "    scaler=train.scaler,  # use scalor from train set\n",
    ")\n",
    "\n",
    "input_dim = train.X.shape[1]\n",
    "output_dim = train.classes.shape[0]\n",
    "\n",
    "print(f\"Number of icd10 classes: {len(train.classes)}\")\n",
    "print(f\"(input_dim: {input_dim}, output_dim: {output_dim})\")"
   ]
  },
  {
   "cell_type": "code",
   "execution_count": 3,
   "metadata": {},
   "outputs": [],
   "source": [
    "# initialize data loaders\n",
    "if use_subset:\n",
    "    train.X = train.X[:subset_size]\n",
    "    calibration.X = calibration.X[:subset_size]\n",
    "    train.y = train.y[:subset_size]\n",
    "    calibration.y = calibration.y[:subset_size]\n",
    "\n",
    "train_loader = DataLoader(train, batch_size=batch_size, shuffle=shuffle)\n",
    "calibration_loader = DataLoader(calibration, batch_size=batch_size, shuffle=shuffle)"
   ]
  },
  {
   "cell_type": "markdown",
   "metadata": {},
   "source": [
    "## Start base-model training"
   ]
  },
  {
   "cell_type": "code",
   "execution_count": 18,
   "metadata": {},
   "outputs": [
    {
     "name": "stdout",
     "output_type": "stream",
     "text": [
      "Epoch 1/150, Train Loss: 6.5992, Val Loss: 5.7812, F1 Macro: 0.3956, Recall Macro: 0.3957\n",
      "Epoch 2/150, Train Loss: 5.6864, Val Loss: 5.7146, F1 Macro: 0.4445, Recall Macro: 0.4475\n",
      "Epoch 3/150, Train Loss: 5.6460, Val Loss: 5.6995, F1 Macro: 0.4510, Recall Macro: 0.4557\n",
      "Epoch 4/150, Train Loss: 5.6212, Val Loss: 5.6881, F1 Macro: 0.4606, Recall Macro: 0.4672\n",
      "Epoch 5/150, Train Loss: 5.5991, Val Loss: 5.7138, F1 Macro: 0.4558, Recall Macro: 0.4599\n",
      "Epoch 6/150, Train Loss: 5.5738, Val Loss: 5.6947, F1 Macro: 0.4667, Recall Macro: 0.4727\n",
      "Epoch 7/150, Train Loss: 5.5411, Val Loss: 5.7159, F1 Macro: 0.4614, Recall Macro: 0.4645\n",
      "Epoch 8/150, Train Loss: 5.5201, Val Loss: 5.7032, F1 Macro: 0.4673, Recall Macro: 0.4694\n",
      "Epoch 9/150, Train Loss: 5.4963, Val Loss: 5.7385, F1 Macro: 0.4643, Recall Macro: 0.4684\n",
      "Epoch 10/150, Train Loss: 5.4715, Val Loss: 5.7159, F1 Macro: 0.4718, Recall Macro: 0.4767\n",
      "Epoch 11/150, Train Loss: 5.4553, Val Loss: 5.7311, F1 Macro: 0.4709, Recall Macro: 0.4742\n",
      "Epoch 12/150, Train Loss: 5.4354, Val Loss: 5.7779, F1 Macro: 0.4536, Recall Macro: 0.4521\n",
      "Epoch 13/150, Train Loss: 5.4177, Val Loss: 5.7473, F1 Macro: 0.4576, Recall Macro: 0.4558\n",
      "Epoch 14/150, Train Loss: 5.3930, Val Loss: 5.7502, F1 Macro: 0.4741, Recall Macro: 0.4765\n",
      "Epoch 15/150, Train Loss: 5.3772, Val Loss: 5.7804, F1 Macro: 0.4616, Recall Macro: 0.4670\n",
      "Epoch 16/150, Train Loss: 5.3558, Val Loss: 5.7802, F1 Macro: 0.4664, Recall Macro: 0.4683\n",
      "Epoch 17/150, Train Loss: 5.3489, Val Loss: 5.7879, F1 Macro: 0.4713, Recall Macro: 0.4734\n",
      "Epoch 18/150, Train Loss: 5.3335, Val Loss: 5.7658, F1 Macro: 0.4740, Recall Macro: 0.4771\n",
      "Epoch 19/150, Train Loss: 5.3268, Val Loss: 5.7722, F1 Macro: 0.4699, Recall Macro: 0.4710\n",
      "Epoch 20/150, Train Loss: 5.3047, Val Loss: 5.7842, F1 Macro: 0.4737, Recall Macro: 0.4764\n",
      "Epoch 21/150, Train Loss: 5.3004, Val Loss: 5.7939, F1 Macro: 0.4669, Recall Macro: 0.4679\n",
      "Epoch 22/150, Train Loss: 5.2907, Val Loss: 5.7970, F1 Macro: 0.4730, Recall Macro: 0.4736\n",
      "Epoch 23/150, Train Loss: 5.2820, Val Loss: 5.7837, F1 Macro: 0.4661, Recall Macro: 0.4643\n",
      "Epoch 24/150, Train Loss: 5.2721, Val Loss: 5.8028, F1 Macro: 0.4649, Recall Macro: 0.4665\n",
      "Early stopping triggered at epoch 24\n",
      "=================================================================================\n",
      "\n",
      "Best F1 Macro: 0.4649, Recall Macro: 0.4665\n"
     ]
    }
   ],
   "source": [
    "# variables MLP\n",
    "num_epochs = 150\n",
    "early_stopping_patience = 10\n",
    "learning_rate = 1e-3\n",
    "dropout = 0.2\n",
    "hidden_dim = 256\n",
    "k_folds = 3\n",
    "\n",
    "# define model\n",
    "model = SimpleMLP(\n",
    "    input_dim=input_dim, hidden_dim=hidden_dim, num_classes=output_dim, dropout=dropout\n",
    ")\n",
    "# model.fit(\n",
    "#     train, # not dataloader but full dataset\n",
    "#     k_folds=k_folds,\n",
    "#     batch_size=batch_size,\n",
    "#     num_epochs=num_epochs,\n",
    "#     learning_rate=learning_rate,\n",
    "#     early_stopping_patience=early_stopping_patience,\n",
    "#     #single_split=0.7,\n",
    "#     verbose=True,\n",
    "# )\n",
    "\n",
    "# fit model using validation/calibration set \n",
    "# Old implementation\n",
    "model.fit_on_val_set(\n",
    "    train_loader,\n",
    "    calibration_loader,\n",
    "    num_epochs=num_epochs,\n",
    "    learning_rate=learning_rate,\n",
    "    early_stopping_patience=early_stopping_patience,\n",
    "    verbose=True,\n",
    ")\n",
    "\n",
    "\n",
    "# predict y, probs, and define y_test\n",
    "y_pred = model.predict(test.X)\n",
    "probs_test = model.predict_proba(test.X)\n",
    "y_test = test.y.numpy()"
   ]
  },
  {
   "cell_type": "code",
   "execution_count": 19,
   "metadata": {},
   "outputs": [
    {
     "name": "stdout",
     "output_type": "stream",
     "text": [
      "Test scores of the basemodel\n",
      "F1 Macro: 0.4650\n",
      "Recall Macro: 0.4673\n",
      "\n"
     ]
    }
   ],
   "source": [
    "# Convert calibrated probabilities to predicted classes\n",
    "y_pred_base = torch.argmax(torch.tensor(probs_test), dim=1)\n",
    "\n",
    "# Initialize metrics\n",
    "f1_macro = F1Score(task=\"multiclass\", average=\"macro\", num_classes=len(test.classes))\n",
    "recall_macro = Recall(task=\"multiclass\", average=\"macro\", num_classes=len(test.classes))\n",
    "\n",
    "# Update metrics with predictions and true labels\n",
    "f1_macro.update(y_pred_base, test.y)\n",
    "recall_macro.update(y_pred_base, test.y)\n",
    "\n",
    "# Compute final values\n",
    "final_f1 = f1_macro.compute()\n",
    "final_recall = recall_macro.compute()\n",
    "\n",
    "# Print results\n",
    "print(\"Test scores of the basemodel\")\n",
    "print(f\"F1 Macro: {final_f1:.4f}\")\n",
    "print(f\"Recall Macro: {final_recall:.4f}\")\n",
    "print(\"\")\n"
   ]
  },
  {
   "cell_type": "markdown",
   "metadata": {},
   "source": [
    "# Post-hoc calibration"
   ]
  },
  {
   "cell_type": "code",
   "execution_count": 20,
   "metadata": {},
   "outputs": [],
   "source": [
    "# relative imports: calibrators\n",
    "from src.calibrators import(\n",
    "    PlattCalibrator,\n",
    "    TemperatureScaling,\n",
    "    TopLabelTemperature,\n",
    "    DirichletCalibration\n",
    ")"
   ]
  },
  {
   "cell_type": "code",
   "execution_count": 21,
   "metadata": {},
   "outputs": [],
   "source": [
    "# extract logits on val & test\n",
    "logits_val = model.predict_logits(calibration.X)  # shape (n_val, n_classes)\n",
    "logits_test = model.predict_logits(test.X)  # shape (n_test, n_classes)"
   ]
  },
  {
   "cell_type": "code",
   "execution_count": 7,
   "metadata": {},
   "outputs": [],
   "source": [
    "# get raw logits from the MLP --> for Platt's scaling specifice; other calibrators use logits!\n",
    "props_val = model.predict_proba(calibration.X)  # shape (n_val, n_classes)\n",
    "probs_test = model.predict_proba(test.X)  # shape (n_test, n_classes)"
   ]
  },
  {
   "cell_type": "markdown",
   "metadata": {},
   "source": [
    "## Platt's scaling \n",
    "Platt’s scaling is a traditional and simple calibration method for binary classifiers, that can be extended to multi-class settings with a one-versus-the-rest approach. It fits a logistic regression model to the model’s uncalibrated scores to convert them into calibrated probabilities (orignialy design by john Platt for SVMs around the 2000s). It has 2 parameters per-class: a weight and a bias. It is found to be limited in extreme multi-class settings, and degrading both calibration and model performance (in our noisy, extreme multi-class healthcare data from federated sources)."
   ]
  },
  {
   "cell_type": "code",
   "execution_count": 8,
   "metadata": {},
   "outputs": [
    {
     "name": "stderr",
     "output_type": "stream",
     "text": [
      "c:\\Users\\Lwsja\\GitHub\\uncertainty-aware-diagnosis\\.venv\\Lib\\site-packages\\sklearn\\linear_model\\_logistic.py:1247: FutureWarning: 'multi_class' was deprecated in version 1.5 and will be removed in 1.7. From then on, it will always use 'multinomial'. Leave it to its default value to avoid this warning.\n",
      "  warnings.warn(\n",
      "c:\\Users\\Lwsja\\GitHub\\uncertainty-aware-diagnosis\\.venv\\Lib\\site-packages\\sklearn\\linear_model\\_logistic.py:465: ConvergenceWarning: lbfgs failed to converge (status=1):\n",
      "STOP: TOTAL NO. OF ITERATIONS REACHED LIMIT.\n",
      "\n",
      "Increase the number of iterations (max_iter) or scale the data as shown in:\n",
      "    https://scikit-learn.org/stable/modules/preprocessing.html\n",
      "Please also refer to the documentation for alternative solver options:\n",
      "    https://scikit-learn.org/stable/modules/linear_model.html#logistic-regression\n",
      "  n_iter_i = _check_optimize_result(\n"
     ]
    }
   ],
   "source": [
    "# variables calibrator\n",
    "C = 0.03\n",
    "solver = \"lbfgs\"\n",
    "log_transform = True\n",
    "\n",
    "# instantiate & fit the Platt calibrator\n",
    "platt = PlattCalibrator(C=C, solver=solver, log_transform=log_transform)\n",
    "platt.fit(props_val, calibration.y.numpy())\n",
    "\n",
    "# use it to get calibrated probabilities on your test set\n",
    "probs_platt_calibrated = platt.predict_proba(probs_test)"
   ]
  },
  {
   "cell_type": "markdown",
   "metadata": {},
   "source": [
    "## Temperature scaling: a reliable baseline\n",
    "\n",
    "Temperature scaling works by multiplying the neural network’s logits by a single scalar parameter. The scaling parameter is determined by minimizing the\n",
    "negative log-likelihood on a dedicated calibration set, which significantly reduces miscalibration without altering the model’s predictive performance. Temperature\n",
    "scaling should provide robust generalization due to its minimal complexity, making it particularly attractive for real-world deployments in extreme multiclass\n",
    "settings where computational simplicity and stability are essential (Guo et al., 2017; Kull et al., 2019; Rajaraman et al., 2022). Given it is using a single parameter it has a low risk on overfitting, with the limitation of only adjusting confidence, not the class ranking nor class-specific biases. It is found that temerature scaling can be a reliable baseline as it does not degrade model performance (as it only adjusts confidence, not ranking), while it can significantly improve calibration."
   ]
  },
  {
   "cell_type": "code",
   "execution_count": 22,
   "metadata": {},
   "outputs": [],
   "source": [
    "# variables calibrator\n",
    "init_temp = 1.5\n",
    "lr = 0.1\n",
    "max_iter = 50\n",
    "\n",
    "# fit temperature\n",
    "temp = TemperatureScaling(\n",
    "  init_temp=init_temp,\n",
    "  lr=lr,\n",
    "  max_iter=max_iter,\n",
    "  device=next(model.parameters()).device\n",
    ")\n",
    "temp.fit(logits_val, calibration.y.numpy())\n",
    "\n",
    "# get calibrated probabilities\n",
    "probs_temp_calibrated = temp.predict_proba(logits_test)"
   ]
  },
  {
   "cell_type": "markdown",
   "metadata": {},
   "source": [
    "## Dirichlet calibration: a more flexible multi-class approach\n",
    "\n",
    "Dirichlet calibration is intentionally designed for multi-class and transforms uncalibrated probabilities into more realistic, better-calibrated probabilities by learning a post-processing function using the Dirichlet distribution. It has three parameters: a weight matrix, a bias vector and a temperature scalar, which together transform the uncalibrated logits via a softmax-like function to produce calibrated probabilities. Therefore it can capture more complex miscalibration than temperature scaling, as it allows class-specific and non-linear adjustment. This comes at the cost of higher risk of overfitting and more required calibration data. It is found that Dirichlet calibration is able to both improve calibration and performance, although temperature scaling could obtain higher calibration.\n"
   ]
  },
  {
   "cell_type": "code",
   "execution_count": 23,
   "metadata": {},
   "outputs": [],
   "source": [
    "# variables calibrator\n",
    "num_classes = logits_val.shape[1]\n",
    "device = \"cpu\"\n",
    "\n",
    "# instantiate & fit the Dirichlet calibrator\n",
    "dirichlet = DirichletCalibration(num_classes=num_classes, device=device)\n",
    "dirichlet.fit(logits_val, calibration.y.numpy())\n",
    "\n",
    "# use it to get calibrated probabilities on your test set\n",
    "probs_dir = dirichlet.predict_proba(logits_test)"
   ]
  },
  {
   "cell_type": "markdown",
   "metadata": {},
   "source": [
    "## Top-label calibration\n",
    "\n",
    "Top-label calibration is a post-hoc calibration method that adjusts the predicted probability only for the top-predicted class (or winning class). Instead of calibrating the full probability distribution across all classes, it focuses only on the confidence of the top guess, therefore it simplifies the calibration problem and makes it fast. This can be desired when you only care about the confidence of the predicted label, not the full distribution, and you have limited calibration data and thus want a simplify the deficult extreme multi-class setting. Limitations (i) Ignores the other class probabilities, so it doesn't correct the full distribution, (ii) it cannot be used if you need well-calibrated probabilities for all classes (e.g., ranking, expected value calculations, multi-label tasks), and (iii) it can give misleading results if the wrong label is top-predicted, since it still calibrates that label as if it were the correct one. All in all, not ideal for automated decision-making in healthcare. Anyhow, an implementation is made and it is findings confirm this reasoning. "
   ]
  },
  {
   "cell_type": "code",
   "execution_count": 12,
   "metadata": {},
   "outputs": [],
   "source": [
    "# fit temperature\n",
    "top_label_temp = TopLabelTemperature(mode=\"top_label\", device=next(model.parameters()).device)\n",
    "top_label_temp.fit(logits_val, calibration.y.numpy())\n",
    "\n",
    "# get calibrated probabilities\n",
    "tl_probs_temp = top_label_temp.predict_proba(logits_test)"
   ]
  },
  {
   "cell_type": "markdown",
   "metadata": {},
   "source": [
    "# Evaluating calibration\n",
    "\n",
    "Performance metrics (closer to 1 is better):\n",
    "- `Macro-F1`: it measures the average F1 score computed independently for each class. It treats all classes equally, regardless of how frequent they are. This avoids bias toward dominant classes, good for balanced performance across classes.\n",
    "- `Recall`: shows how well each class is detected, especially important in domains where missing a class (i.e. rare diseases) is costly. Good for understanding class-wise sensitivity.\n",
    "\n",
    "Calibration metrics (smaller is better):\n",
    "- `Brier score`: measures the mean squared difference between predicted probabilities and true one-hot labels. It combines both confidence and correctness. Good for capturing both accuracy and calibration in one scalar.\n",
    "- `Confidence Expected Calibration Error` (conf-ECE): measures the average difference between confidence and accuracy, binned by confidence level, across all classes. It detects global miscalibration (i.e. over or underconfidence). Good for overall reliability of predicted confidences.\n",
    "- `Classwise-ECE`: computes the ECE separately for each class and then averages it. This reveals per-class calibration problems, which is essential when you care about minority or rare classes. Thus good for detecting imbalanced reliability.\n",
    "\n",
    "This combination:\\\n",
    "(i)   Covers discrimination (via Macro-F1, Recall), \\\n",
    "(ii)  Covers probability quality (via Brier), \\\n",
    "(iii) Covers global and local calibration (Conf-ECE + Classwise ECE)\n",
    "\n",
    "The reliability diagram:\\\n",
    "It is implemented using `pycalib` and is a visualization tool to assess how well a model's predicted probabilities match the actual outcomes, so how calibrated the model is. You could visualise such a diagram per-class, but given our extreme multi-class setting we show only the winning (or top-ranked) class with the highes probability. The X-ax shows the predicted confidence and the y-ax the observed accuracy for predictions in that confidence range. \\\n",
    "*Interpretation*: a perfectly calibrated model will follow the diagonal line (confidence = accuracy). Above the diagonal is underconfident and below is overconfident model estimations. \n"
   ]
  },
  {
   "cell_type": "code",
   "execution_count": 11,
   "metadata": {},
   "outputs": [],
   "source": [
    "# relative imports: calibration evaluator\n",
    "from src.calibrators import Evaluator"
   ]
  },
  {
   "cell_type": "code",
   "execution_count": 24,
   "metadata": {},
   "outputs": [
    {
     "name": "stdout",
     "output_type": "stream",
     "text": [
      "\n",
      "====== Classification Metrics ======\n",
      "\n",
      "Model               F1 Macro       Recall        Brier\n",
      "---------------------------------------------\n",
      "Baseline              0.4650          0.4673          0.2991\n",
      "Temp                  0.4650          0.4673          0.2111\n",
      "Dirichlet             0.4914          0.5169          0.2457\n",
      "\n",
      "====== Calibration (Expected Calibration Error) Metrics ======\n",
      "\n",
      "Model               conf_ECE    classwise_ECE\n",
      "---------------------------------------------\n",
      "Baseline              0.3013              0.0011\n",
      "Temp                  0.0589              0.0005\n",
      "Dirichlet             0.1904              0.0008\n",
      "\n",
      "====== Reliability Diagram ======\n",
      "\n"
     ]
    },
    {
     "data": {
      "image/png": "[encoded data removed]",
      "text/plain": [
       "<Figure size 400x400 with 2 Axes>"
      ]
     },
     "metadata": {},
     "output_type": "display_data"
    }
   ],
   "source": [
    "# Instantiate the evaluator\n",
    "num_classes = len(test.classes)\n",
    "evaluator = Evaluator(num_classes=num_classes)\n",
    "\n",
    "# Prepare the dictionary of model outputs\n",
    "bins = 15 # used for ECE\n",
    "prob_dict = {\n",
    "    \"Baseline\": probs_test,\n",
    "    #\"Platt\": probs_platt_calibrated,\n",
    "    \"Temp\": probs_temp_calibrated,\n",
    "    \"Dirichlet\": probs_dir,\n",
    "}\n",
    "\n",
    "# Evaluate everything: prints F1, Recall, Brier, ECE, and shows plot\n",
    "results, ece_scores = evaluator.evaluate_all(\n",
    "    y_true=test.y,\n",
    "    prob_dict=prob_dict,\n",
    "    bins=bins \n",
    ")"
   ]
  }
 ],
 "metadata": {
  "kernelspec": {
   "display_name": ".venv",
   "language": "python",
   "name": "python3"
  },
  "language_info": {
   "codemirror_mode": {
    "name": "ipython",
    "version": 3
   },
   "file_extension": ".py",
   "mimetype": "text/x-python",
   "name": "python",
   "nbconvert_exporter": "python",
   "pygments_lexer": "ipython3",
   "version": "3.12.3"
  }
 },
 "nbformat": 4,
 "nbformat_minor": 2
}
