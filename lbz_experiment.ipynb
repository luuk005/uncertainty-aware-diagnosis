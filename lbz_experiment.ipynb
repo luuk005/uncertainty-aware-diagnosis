{
 "cells": [
  {
   "cell_type": "code",
   "execution_count": null,
   "id": "0",
   "metadata": {},
   "outputs": [],
   "source": [
    "%load_ext autoreload\n",
    "%autoreload 2"
   ]
  },
  {
   "cell_type": "code",
   "execution_count": null,
   "id": "1",
   "metadata": {},
   "outputs": [],
   "source": [
    "# relative imports\n",
    "from uncertainty_aware_diagnosis import split_and_save_csv, ICD10data\n",
    "\n",
    "# absolute imports\n",
    "import polars as pl\n",
    "\n",
    "# paths\n",
    "train_csv = \"./data/lbz-train.csv\"\n",
    "val_csv = \"./data/lbz-val.csv\"\n",
    "test_csv = \"./data/lbz-test.csv\"\n",
    "input_csv = \"./data/opnamen.csv\""
   ]
  },
  {
   "cell_type": "code",
   "execution_count": null,
   "id": "2",
   "metadata": {},
   "outputs": [],
   "source": [
    "# inspect data\n",
    "opnamen = pl.read_csv(input_csv)\n",
    "print(opnamen.shape)\n",
    "opnamen.head()\n",
    "\n",
    "# # check missing values\n",
    "# for col in opnamen.columns:\n",
    "#     print(f'{col} contains {opnamen[\"DBC_specialty_code\"].is_null().sum()} missing values')"
   ]
  },
  {
   "cell_type": "markdown",
   "id": "3",
   "metadata": {},
   "source": [
    "### preprocessing\n",
    "- drop NaN values\n",
    "- removed 3rd gender (n=1)\n",
    "- drop classes with less than 25 samples"
   ]
  },
  {
   "cell_type": "code",
   "execution_count": null,
   "id": "4",
   "metadata": {},
   "outputs": [],
   "source": [
    "target = \"icd10_main_code\"\n",
    "categorical = [\n",
    "    \"zorginstellingnaam\",\n",
    "    \"gender\",\n",
    "    \"clinical_specialty\",\n",
    "    \"DBC_specialty_code\",\n",
    "    \"DBC_diagnosis_code\",\n",
    "    \"icd10_subtraject_code\",\n",
    "]\n",
    "numerical = [\"age\"]\n",
    "\n",
    "data = ICD10data(\n",
    "    csv_path=input_csv,\n",
    "    numerical=numerical,\n",
    "    categorical=categorical,\n",
    "    high_card=[],\n",
    "    target=target,\n",
    "    dropna=True,\n",
    "    use_embedding=False,\n",
    ")"
   ]
  },
  {
   "cell_type": "code",
   "execution_count": null,
   "id": "5",
   "metadata": {},
   "outputs": [],
   "source": [
    "# split data into train, val, test\n",
    "split_and_save_csv(\n",
    "    input_csv=input_csv,\n",
    "    train_csv=train_csv,\n",
    "    val_csv=val_csv,\n",
    "    test_csv=test_csv,\n",
    "    train_frac=0.7,\n",
    "    val_frac=0.15,\n",
    "    test_frac=0.15,\n",
    "    stratify_col=target,  # preserve class balance\n",
    "    min_class_count=25,\n",
    "    random_state=42,\n",
    ")"
   ]
  },
  {
   "cell_type": "code",
   "execution_count": null,
   "id": "6",
   "metadata": {},
   "outputs": [],
   "source": []
  },
  {
   "cell_type": "code",
   "execution_count": null,
   "id": "7",
   "metadata": {},
   "outputs": [],
   "source": []
  },
  {
   "cell_type": "code",
   "execution_count": null,
   "id": "8",
   "metadata": {},
   "outputs": [],
   "source": []
  }
 ],
 "metadata": {
  "kernelspec": {
   "display_name": ".venv",
   "language": "python",
   "name": "python3"
  },
  "language_info": {
   "codemirror_mode": {
    "name": "ipython",
    "version": 3
   },
   "file_extension": ".py",
   "mimetype": "text/x-python",
   "name": "python",
   "nbconvert_exporter": "python",
   "pygments_lexer": "ipython3",
   "version": "3.12.3"
  }
 },
 "nbformat": 4,
 "nbformat_minor": 5
}
