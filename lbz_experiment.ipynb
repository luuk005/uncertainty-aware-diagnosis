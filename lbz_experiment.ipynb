{
 "cells": [
  {
   "cell_type": "code",
   "execution_count": null,
   "id": "0",
   "metadata": {},
   "outputs": [],
   "source": [
    "%load_ext autoreload\n",
    "%autoreload 2"
   ]
  },
  {
   "cell_type": "markdown",
   "id": "1",
   "metadata": {},
   "source": [
    "### preprocessing\n",
    "- drop NaN values\n",
    "- removed 3rd gender (n=1)\n",
    "- merge rare classes\n",
    "- drop classes with less than 25 samples"
   ]
  },
  {
   "cell_type": "code",
   "execution_count": null,
   "id": "2",
   "metadata": {},
   "outputs": [],
   "source": [
    "# relative imports\n",
    "from uncertainty_aware_diagnosis import ICD10data\n",
    "\n",
    "# absolute imports\n",
    "\n",
    "# paths\n",
    "train_csv = \"./data/lbz-train.csv\"\n",
    "val_csv = \"./data/lbz-val.csv\"\n",
    "test_csv = \"./data/lbz-test.csv\""
   ]
  },
  {
   "cell_type": "code",
   "execution_count": null,
   "id": "3",
   "metadata": {},
   "outputs": [],
   "source": [
    "target = \"icd10_main_code\"\n",
    "categorical = [\n",
    "    \"zorginstellingnaam\",\n",
    "    \"gender\",\n",
    "    \"clinical_specialty\",\n",
    "    \"DBC_specialty_code\",\n",
    "    \"DBC_diagnosis_code\",\n",
    "    \"icd10_subtraject_code\",\n",
    "]\n",
    "numerical = [\"age\"]\n",
    "\n",
    "train = ICD10data(\n",
    "    csv_path=train_csv,\n",
    "    numerical=numerical,\n",
    "    categorical=categorical,\n",
    "    high_card=[],\n",
    "    target=target,\n",
    "    dropna=True,\n",
    "    use_embedding=False,\n",
    ")\n",
    "\n",
    "print(f\"Number of icd10 classes: {len(train.classes)}\")"
   ]
  },
  {
   "cell_type": "code",
   "execution_count": null,
   "id": "4",
   "metadata": {},
   "outputs": [],
   "source": []
  },
  {
   "cell_type": "code",
   "execution_count": null,
   "id": "5",
   "metadata": {},
   "outputs": [],
   "source": []
  }
 ],
 "metadata": {
  "kernelspec": {
   "display_name": ".venv",
   "language": "python",
   "name": "python3"
  },
  "language_info": {
   "codemirror_mode": {
    "name": "ipython",
    "version": 3
   },
   "file_extension": ".py",
   "mimetype": "text/x-python",
   "name": "python",
   "nbconvert_exporter": "python",
   "pygments_lexer": "ipython3",
   "version": "3.12.3"
  }
 },
 "nbformat": 4,
 "nbformat_minor": 5
}
